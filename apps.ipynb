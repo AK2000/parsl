{
 "cells": [
  {
   "cell_type": "code",
   "execution_count": 1,
   "metadata": {
    "collapsed": true
   },
   "outputs": [],
   "source": [
    "import client\n",
    "import os\n",
    "import time\n",
    "\n",
    "conn = client.IPPClient(os.path.expanduser(\"~/.ipython/profile_default/security/ipcontroller-client.json\"))\n",
    "client = conn.get_client()"
   ]
  },
  {
   "cell_type": "code",
   "execution_count": 128,
   "metadata": {
    "collapsed": false
   },
   "outputs": [
    {
     "name": "stdout",
     "output_type": "stream",
     "text": [
      "DEBUG:  4 - 5\n",
      "DEBUG:  4 5\n"
     ]
    }
   ],
   "source": [
    "DEBUG=True\n",
    "\n",
    "def debug_print(*args, **kwargs):\n",
    "    if DEBUG:\n",
    "        print('DEBUG: ', *args, **kwargs)\n",
    "        \n",
    "debug_print(\"{0} - {1}\".format(4,5))\n",
    "debug_print(4,5)"
   ]
  },
  {
   "cell_type": "code",
   "execution_count": 2,
   "metadata": {
    "collapsed": true
   },
   "outputs": [],
   "source": [
    "class APP (object):\n",
    "    \n",
    "    def __init__ (self, executable, inputs=[], outputs=[], env={}, walltime=60, exec_type=\"bash\"):\n",
    "        self.executable = executable\n",
    "        self.inputs     = inputs\n",
    "        self.outputs    = outputs\n",
    "        self.exec_type  = exec_type\n",
    "        self.status     = 'created'\n",
    "        self.stdout     = None\n",
    "        self.stderr     = None\n",
    "            \n",
    "    def __call__(self, block=True):\n",
    "        \n",
    "        import time\n",
    "        import subprocess\n",
    "        start_t = time.time()\n",
    "        if self.exec_type != \"bash\":\n",
    "            raise NotImplemented        \n",
    "\n",
    "        self.stdout = \"exec_wait.out.txt\"\n",
    "        self.stderr = \"exec_wait.err.txt\"\n",
    "        std_out = open(self.stdout, 'w')\n",
    "        std_err = open(self.stderr, 'w')\n",
    "        start_time = time.time()    \n",
    "        try :\n",
    "            proc = subprocess.Popen(self.executable, stdout=std_out, stderr=std_err, shell=True)\n",
    "            proc.wait()\n",
    "        except Exception as e:\n",
    "            print(\"Caught exception : {0}\".format(e))\n",
    "            self.error = e\n",
    "            self.status = 'failed'\n",
    "            return -1\n",
    "        \n",
    "        self.exec_duration = time.time() - start_t\n",
    "        print(\"RunCommand Completed {0}\".format(self.executable))\n",
    "        return self.exec_duration\n",
    "        "
   ]
  },
  {
   "cell_type": "code",
   "execution_count": 157,
   "metadata": {
    "collapsed": true
   },
   "outputs": [],
   "source": [
    "dview=client[:]\n",
    "@dview.remote(block=False)\n",
    "def execute(desc, block=False):        \n",
    "    import time\n",
    "    import os\n",
    "    import subprocess\n",
    "    start_t = time.time()\n",
    "    if desc[\"exec_type\"] != \"bash\":\n",
    "        raise NotImplemented        \n",
    "\n",
    "    #desc[\"stdout\"] = \"exec_wait.out.txt\"\n",
    "    #desc[\"stderr\"] = \"exec_wait.err.txt\"\n",
    "    std_out = open(desc[\"stdout\"], 'w')\n",
    "    std_err = open(desc[\"stderr\"], 'w')\n",
    "    start_time = time.time()    \n",
    "    try :\n",
    "        proc = subprocess.Popen(desc[\"executable\"], stdout=std_out, stderr=std_err, shell=True)\n",
    "        proc.wait()\n",
    "    except Exception as e:\n",
    "        print(\"Caught exception : {0}\".format(e))\n",
    "        desc[\"error\"] = e\n",
    "        desc[\"status\"] = 'failed'\n",
    "        return -1\n",
    "        \n",
    "    desc[\"exec_duration\"] = time.time() - start_t\n",
    "    desc[\"pid\"] = os.getpid()\n",
    "    print(\"RunCommand Completed {0}\".format(desc[\"executable\"]))\n",
    "    return desc"
   ]
  },
  {
   "cell_type": "code",
   "execution_count": 156,
   "metadata": {
    "collapsed": false
   },
   "outputs": [
    {
     "name": "stdout",
     "output_type": "stream",
     "text": [
      "total_dur :  33.27006149291992\n"
     ]
    }
   ],
   "source": [
    "import time\n",
    "app_def = { \"exec_type\"   : \"bash\",\n",
    "            \"stdout\"      : None,\n",
    "            \"stderr\"      : None,\n",
    "            \"executable\"  : \"echo {inputs[0]} {inputs{0}} &> {outputs[0]}\",\n",
    "            \"inputs\"      : [\"hello\", \"world\"],            \n",
    "            \"outputs\"     : [\"output.txt\"],      \n",
    "           }\n",
    "\n",
    "start = time.time()\n",
    "res = [(i, execute(app_def)) for i in range(0, 10000)]\n",
    "print(\"total_dur : \", time.time()-start)"
   ]
  },
  {
   "cell_type": "code",
   "execution_count": 38,
   "metadata": {
    "collapsed": false
   },
   "outputs": [
    {
     "name": "stdout",
     "output_type": "stream",
     "text": [
      "[{'stdout': 'exec_wait.out.txt', 'outputs': ['output.txt'], 'executable': 'echo {inputs[0]} {inputs{0}} &> {outputs[0]}', 'exec_type': 'bash', 'stderr': 'exec_wait.err.txt', 'pid': 1655, 'inputs': ['hello', 'world'], 'exec_duration': 0.003741741180419922}]\n"
     ]
    }
   ],
   "source": [
    "print(res)"
   ]
  },
  {
   "cell_type": "code",
   "execution_count": 133,
   "metadata": {
    "collapsed": true
   },
   "outputs": [],
   "source": [
    "import sys\n",
    "\n",
    "class APP(object):\n",
    "    \n",
    "    def __init__ (self, f, desc):\n",
    "        self.func = f\n",
    "        self.desc = desc        \n",
    "        \n",
    "    def __call__(self, *args, **kwargs):\n",
    "        debug_print(\"Tracer\")\n",
    "        def tracer(frame, event, arg):\n",
    "            if event=='return':\n",
    "                self._locals = frame.f_locals.copy()\n",
    "        \n",
    "        # Activate tracer\n",
    "        sys.setprofile(tracer)\n",
    "        try:\n",
    "            # trace the function call\n",
    "            res = self.func(*args, **kwargs)\n",
    "        finally:\n",
    "            # disable tracer and replace with old one\n",
    "            sys.setprofile(None)\n",
    "\n",
    "        cmd_line = self._locals['cmd_line']\n",
    "        debug_print('Command line : ', cmd_line)\n",
    "        debug_print('kwargs       : ', kwargs)\n",
    "        formatted = cmd_line.format(**kwargs)\n",
    "        \n",
    "        self.desc.update(kwargs)\n",
    "        self.desc.update({'executable' : formatted})\n",
    "        \n",
    "        return execute(self.desc)        \n",
    "       \n",
    "def App(apptype):\n",
    "    # App Decorator\n",
    "    debug_print (\"Apptype\", apptype)\n",
    "    app_def = { \"exec_type\" : apptype, \n",
    "                \"inputs\" : [],\n",
    "                \"outputs\" : [],\n",
    "                \"env\" : {} }\n",
    "        \n",
    "    def Exec(f):\n",
    "        debug_print(\"Decorator Exec : \", f)                \n",
    "        #print(\"In the inner function with arg f : {0}\".format(str(f.__code__)) )        \n",
    "        #print(\"Def  : {0}\".format(app_def))        \n",
    "        return APP(f, app_def)\n",
    "    \n",
    "    return Exec"
   ]
  },
  {
   "cell_type": "code",
   "execution_count": 150,
   "metadata": {
    "collapsed": false
   },
   "outputs": [
    {
     "name": "stdout",
     "output_type": "stream",
     "text": [
      "<AsyncResult: execute>\n",
      "[{'stdout': 'exec_wait.out.txt', 'outputs': [], 'executable': 'echo Hello World!', 'env': {}, 'exec_type': 'bash', 'stderr': 'exec_wait.err.txt', 'pid': 1655, 'inputs': ['Hello', 'World!'], 'exec_duration': 0.004425048828125}]\n"
     ]
    }
   ],
   "source": [
    "###############################################################################################\n",
    "@App('bash')\n",
    "def echo(inputs=[], stderr='std.err', stdout='std.out'):        \n",
    "    cmd_line = 'echo {inputs[0]} {inputs[1]}'    \n",
    "###############################################################################################\n",
    "    \n",
    "result = echo(inputs=[\"Hello\", \"World!\"], stdout='std.out', stderr='std.err')\n",
    "print(result)\n",
    "print(result.get())"
   ]
  },
  {
   "cell_type": "code",
   "execution_count": 145,
   "metadata": {
    "collapsed": false
   },
   "outputs": [
    {
     "name": "stdout",
     "output_type": "stream",
     "text": [
      "Got the future from the sleep app : <AsyncResult: execute>\n",
      "Sleeping at 0\n",
      "Sleeping at 1\n",
      "Done at 2\n",
      "[{'stdout': 'exec_wait.out.txt', 'outputs': [], 'executable': 'sleep 1', 'env': {}, 'stderr': 'exec_wait.err.txt', 'exec_type': 'bash', 'sleeptime': 1, 'pid': 1655, 'inputs': [], 'exec_duration': 1.0055561065673828}]\n"
     ]
    }
   ],
   "source": [
    "DEBUG=False\n",
    "###############################################################################################\n",
    "@App('bash')\n",
    "def sleep(sleeptime=0, inputs=[], stderr='std.err', stdout='std.out'):        \n",
    "    cmd_line = 'sleep {sleeptime}'    \n",
    "###############################################################################################    \n",
    "result = sleep(sleeptime=1)\n",
    "\n",
    "print(\"Got the future from the sleep app :\", result)\n",
    "\n",
    "\n",
    "def poll(asyncresult, duration=1, maxwait=10, verbose=True):\n",
    "    for i in range(duration*maxwait):\n",
    "        if asyncresult.ready():\n",
    "            if verbose:\n",
    "                print(\"Done at {0}\".format(duration*i))\n",
    "            return True\n",
    "        else:\n",
    "            if verbose:\n",
    "                print(\"Sleeping at {0}\".format(duration*i))\n",
    "            time.sleep(duration)\n",
    "            \n",
    "poll(result)\n",
    "print(result.get())"
   ]
  },
  {
   "cell_type": "code",
   "execution_count": 149,
   "metadata": {
    "collapsed": false
   },
   "outputs": [
    {
     "name": "stdout",
     "output_type": "stream",
     "text": [
      "0\n",
      "1\n",
      "2\n",
      "3\n",
      "4\n",
      "[<AsyncResult: execute>, <AsyncResult: execute>, <AsyncResult: execute>, <AsyncResult: execute>, <AsyncResult: execute>]\n",
      "[<AsyncResult: execute:finished>, <AsyncResult: execute>, <AsyncResult: execute>, <AsyncResult: execute>, <AsyncResult: execute>]\n",
      "[[{'stdout': 'exec_wait.out.txt', 'outputs': [], 'executable': 'sleep 0', 'env': {}, 'stderr': 'exec_wait.err.txt', 'exec_type': 'bash', 'sleeptime': 0, 'pid': 1655, 'inputs': [], 'exec_duration': 0.0063152313232421875}]]\n"
     ]
    }
   ],
   "source": [
    "results = []\n",
    "for i in range(0,5):\n",
    "    #print(i)\n",
    "    x= sleep(sleeptime=i)\n",
    "    results.append(x)\n",
    "    \n",
    "\n",
    "    \n",
    "print(results)\n",
    "time.sleep(3)\n",
    "print(results)\n",
    "print( [i.get() for i in results if i.ready()] )\n"
   ]
  },
  {
   "cell_type": "code",
   "execution_count": null,
   "metadata": {
    "collapsed": true
   },
   "outputs": [],
   "source": [
    "\n",
    "\n",
    "###############################################################################################\n",
    "@App('bash')\n",
    "def cat(inputs=[''], stderr='std.err', stdout='std.out'):        \n",
    "    cmd_line = 'sleep {sleeptime}'\n",
    "###############################################################################################\n",
    "\n"
   ]
  },
  {
   "cell_type": "code",
   "execution_count": 151,
   "metadata": {
    "collapsed": false
   },
   "outputs": [
    {
     "name": "stdout",
     "output_type": "stream",
     "text": [
      "echo \"Hello World\"\n"
     ]
    }
   ],
   "source": [
    "cmd_line = 'echo \"{inputs[0]} {inputs[1]}\"'\n",
    "kwargs = {'inputs' :[\"Hello\", \"World\"],\n",
    "          'outputs' : []}\n",
    "fo = cmd_line.format(**kwargs)\n",
    "print(fo)"
   ]
  },
  {
   "cell_type": "code",
   "execution_count": null,
   "metadata": {
    "collapsed": true
   },
   "outputs": [],
   "source": [
    "Show out of order eval of remote functions\n",
    "Put a regular function behind the future\n"
   ]
  }
 ],
 "metadata": {
  "kernelspec": {
   "display_name": "Python 3",
   "language": "python",
   "name": "python3"
  },
  "language_info": {
   "codemirror_mode": {
    "name": "ipython",
    "version": 3
   },
   "file_extension": ".py",
   "mimetype": "text/x-python",
   "name": "python",
   "nbconvert_exporter": "python",
   "pygments_lexer": "ipython3",
   "version": "3.5.2"
  }
 },
 "nbformat": 4,
 "nbformat_minor": 2
}
