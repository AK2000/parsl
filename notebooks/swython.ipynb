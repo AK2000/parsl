{
 "cells": [
  {
   "cell_type": "markdown",
   "metadata": {},
   "source": [
    "# Initial testing.\n",
    "\n",
    "We want an *app* class"
   ]
  },
  {
   "cell_type": "code",
   "execution_count": null,
   "metadata": {
    "collapsed": false
   },
   "outputs": [],
   "source": [
    "import client\n",
    "import os\n",
    "\n",
    "# Start an ipcluster locally with 4 engines\n",
    "os.system(\"ipcluster start -n 4\")"
   ]
  },
  {
   "cell_type": "code",
   "execution_count": 1,
   "metadata": {
    "collapsed": false
   },
   "outputs": [],
   "source": [
    "import client\n",
    "import os\n",
    "import ipyparallel\n",
    "conn = client.IPPClient(os.path.expanduser(\"~/.ipython/profile_default/security/ipcontroller-client.json\"))\n",
    "client = conn.get_client()"
   ]
  },
  {
   "cell_type": "code",
   "execution_count": 2,
   "metadata": {
    "collapsed": false
   },
   "outputs": [
    {
     "name": "stdout",
     "output_type": "stream",
     "text": [
      "<DirectView [0, 1, 2, 3]>\n"
     ]
    }
   ],
   "source": [
    "print(client[:])"
   ]
  },
  {
   "cell_type": "code",
   "execution_count": 3,
   "metadata": {
    "collapsed": false
   },
   "outputs": [
    {
     "data": {
      "text/plain": [
       "[0, 1, 4, 9, 16, 25, 36, 49, 64, 81]"
      ]
     },
     "execution_count": 3,
     "metadata": {},
     "output_type": "execute_result"
    }
   ],
   "source": [
    "client[:].map_sync(lambda x:x**2, range(10))"
   ]
  },
  {
   "cell_type": "markdown",
   "metadata": {},
   "source": [
    "# DirectView\n",
    "\n",
    "The next cell shows how the directview splits up a list of tasks in a predetermined fashion and distributes over the engines. Blocks of TaskCount/EngineCount get assigned to each engine. The pids help you identify the index of the items on the list that each engine processed."
   ]
  },
  {
   "cell_type": "code",
   "execution_count": null,
   "metadata": {
    "collapsed": false
   },
   "outputs": [],
   "source": [
    "# A simple sleep job that returns pid and ppid to identify engines\n",
    "# Called with a blocking call. Will wait for all jobs to finish\n",
    "def sleep(secs):\n",
    "    import time\n",
    "    import os\n",
    "    time.sleep(secs)\n",
    "    return os.getpgid(os.getpid()), os.getppid(), os.getpid()\n",
    "client[:].map_sync(sleep, range(8))"
   ]
  },
  {
   "cell_type": "markdown",
   "metadata": {},
   "source": [
    "# Load Balanced View\n",
    "\n",
    "The next cell demonstates the loadbalancing behavior of the load_balanced_view. This appears to be a a queue based model where tasks are assigned to engines in the order they finish their tasks"
   ]
  },
  {
   "cell_type": "code",
   "execution_count": null,
   "metadata": {
    "collapsed": false
   },
   "outputs": [],
   "source": [
    "def sleep(secs):\n",
    "    import time\n",
    "    import os\n",
    "    time.sleep(secs)\n",
    "    return os.getpgid(os.getpid()), os.getppid(), os.getpid()\n",
    "lb_view = client.load_balanced_view()\n",
    "lb_view.map_sync(sleep, [1,5,5,5,1,1,1,1])"
   ]
  },
  {
   "cell_type": "markdown",
   "metadata": {
    "collapsed": false
   },
   "source": [
    "# Async Results\n",
    "\n",
    "When apply or map functions are executed in nonblocking mode, they return an asyncresult object (superset of https://docs.python.org/2/library/multiprocessing.html#multiprocessing.pool.AsyncResult) "
   ]
  },
  {
   "cell_type": "code",
   "execution_count": 5,
   "metadata": {
    "collapsed": false
   },
   "outputs": [
    {
     "name": "stdout",
     "output_type": "stream",
     "text": [
      "Sleeping at 0\n",
      "Sleeping at 1\n",
      "Sleeping at 2\n",
      "Sleeping at 3\n",
      "Sleeping at 4\n",
      "Sleeping at 5\n",
      "Done at 6\n",
      "[(4040, 4040, 4068), (4040, 4040, 4066), (4040, 4040, 4070), (4040, 4040, 4064), (4040, 4040, 4068), (4040, 4040, 4068), (4040, 4040, 4068), (4040, 4040, 4068)]\n"
     ]
    }
   ],
   "source": [
    "import time\n",
    "def sleep(secs):\n",
    "    import time\n",
    "    import os\n",
    "    time.sleep(secs)\n",
    "    return os.getpgid(os.getpid()), os.getppid(), os.getpid()\n",
    "lb_view = client.load_balanced_view()\n",
    "result = lb_view.map_async(sleep, [1,5,5,5,1,1,1,1])\n",
    "\n",
    "def poll(asyncresult, duration=1, maxwait=10, verbose=True):\n",
    "    for i in range(duration*maxwait):\n",
    "        if asyncresult.ready():\n",
    "            if verbose:\n",
    "                print(\"Done at {0}\".format(duration*i))\n",
    "            return True\n",
    "        else:\n",
    "            if verbose:\n",
    "                print(\"Sleeping at {0}\".format(duration*i))\n",
    "            time.sleep(duration)\n",
    "            \n",
    "poll(result)\n",
    "print(result.get())"
   ]
  },
  {
   "cell_type": "code",
   "execution_count": 8,
   "metadata": {
    "collapsed": false
   },
   "outputs": [
    {
     "name": "stdout",
     "output_type": "stream",
     "text": [
      "1 10000\n",
      "CPU times: user 32.6 s, sys: 1.94 s, total: 34.5 s\n",
      "Wall time: 34.1 s\n"
     ]
    }
   ],
   "source": [
    "%%time \n",
    "def foo(i):\n",
    "    return i+1\n",
    "\n",
    "results = lb_view.map_sync(foo, range(0,10000))\n",
    "print(results[0], results[-1])"
   ]
  },
  {
   "cell_type": "code",
   "execution_count": null,
   "metadata": {
    "collapsed": false
   },
   "outputs": [],
   "source": [
    "%%time\n",
    "\n",
    "def foo(i):\n",
    "    return i+1\n",
    "\n",
    "results = lb_view.map_async(foo, range(0,100000))\n",
    "results.wait()\n",
    "print(results[0])"
   ]
  },
  {
   "cell_type": "code",
   "execution_count": null,
   "metadata": {
    "collapsed": false
   },
   "outputs": [],
   "source": [
    "results.wait()\n",
    "print(results[0], results[-1])"
   ]
  },
  {
   "cell_type": "code",
   "execution_count": null,
   "metadata": {
    "collapsed": false
   },
   "outputs": [],
   "source": [
    "\n",
    "class APP (object):\n",
    "    \n",
    "    def __init__ (self, executable, inputs=[], outputs=[], env={}, walltime=60, exec_type=\"bash\"):\n",
    "        self.executable = executable\n",
    "        self.inputs     = inputs\n",
    "        self.outputs    = outputs\n",
    "        self.exec_type  = exec_type\n",
    "        self.status     = 'created'\n",
    "        self.stdout     = None\n",
    "        self.stderr     = None\n",
    "            \n",
    "    def __call__(self, block=True):\n",
    "        \n",
    "        import time\n",
    "        import subprocess\n",
    "        start_t = time.time()\n",
    "        if self.exec_type != \"bash\":\n",
    "            raise NotImplemented        \n",
    "\n",
    "        self.stdout = \"exec_wait.out.txt\"\n",
    "        self.stderr = \"exec_wait.err.txt\"\n",
    "        std_out = open(self.stdout, 'w')\n",
    "        std_err = open(self.stderr, 'w')\n",
    "        start_time = time.time()    \n",
    "        try :\n",
    "            proc = subprocess.Popen(self.executable, stdout=std_out, stderr=std_err, shell=True)\n",
    "            proc.wait()\n",
    "        except Exception as e:\n",
    "            print(\"Caught exception : {0}\".format(e))\n",
    "            self.error = e\n",
    "            self.status = 'failed'\n",
    "            return -1\n",
    "        \n",
    "        self.exec_duration = time.time() - start_t\n",
    "        print(\"RunCommand Completed {0}\".format(self.executable))\n",
    "        return self.exec_duration\n",
    "\n",
    "            \n",
    "        \n",
    "app = APP(\"sleep 1\", [], [])\n",
    "app()\n"
   ]
  },
  {
   "cell_type": "code",
   "execution_count": null,
   "metadata": {
    "collapsed": false
   },
   "outputs": [],
   "source": [
    "def f(obj):\n",
    "    print(obj)\n",
    "    return str(obj)\n",
    "\n",
    "client[:].map_sync(f, [1,2,3])\n",
    "#client[:].push({app: app, APP : APP}, block=True)\n",
    "#client[:].map_sync(f, [app, app])"
   ]
  },
  {
   "cell_type": "code",
   "execution_count": null,
   "metadata": {
    "collapsed": false
   },
   "outputs": [],
   "source": [
    "def f(obj):\n",
    "    print(obj)\n",
    "    return str(obj)\n",
    "print(APP)\n",
    "#client[:].push({APP: APP}, block=True)\n",
    "#client[:].map_sync(f, [app, app])"
   ]
  },
  {
   "cell_type": "code",
   "execution_count": null,
   "metadata": {
    "collapsed": false
   },
   "outputs": [],
   "source": [
    "dview=client[0:1]\n",
    "@dview.remote(block=True)\n",
    "def execute(desc, block=True):        \n",
    "    import time\n",
    "    import os\n",
    "    import subprocess\n",
    "    start_t = time.time()\n",
    "    if desc[\"exec_type\"] != \"bash\":\n",
    "        raise NotImplemented        \n",
    "\n",
    "    desc[\"stdout\"] = \"exec_wait.out.txt\"\n",
    "    desc[\"stderr\"] = \"exec_wait.err.txt\"\n",
    "    std_out = open(desc[\"stdout\"], 'w')\n",
    "    std_err = open(desc[\"stderr\"], 'w')\n",
    "    start_time = time.time()    \n",
    "    try :\n",
    "        proc = subprocess.Popen(desc[\"executable\"], stdout=std_out, stderr=std_err, shell=True)\n",
    "        proc.wait()\n",
    "    except Exception as e:\n",
    "        print(\"Caught exception : {0}\".format(e))\n",
    "        desc[\"error\"] = e\n",
    "        desc[\"status\"] = 'failed'\n",
    "        return -1\n",
    "        \n",
    "    desc[\"exec_duration\"] = time.time() - start_t\n",
    "    desc[\"pid\"] = os.getpid()\n",
    "    print(\"RunCommand Completed {0}\".format(desc[\"executable\"]))\n",
    "    return desc"
   ]
  },
  {
   "cell_type": "code",
   "execution_count": null,
   "metadata": {
    "collapsed": true
   },
   "outputs": [],
   "source": []
  },
  {
   "cell_type": "code",
   "execution_count": null,
   "metadata": {
    "collapsed": false
   },
   "outputs": [],
   "source": [
    "#def get_data(item):\n",
    "#    return item\n",
    "\n",
    "app_def = { \"exec_type\"   : \"bash\",\n",
    "            \"stdout\"      : None,\n",
    "            \"stderr\"      : None,\n",
    "            \"executable\"  : \"echo {inputs[0]} {inputs{0}} &> {outputs[0]}\",\n",
    "            \"inputs\"      : [\"hello\", \"world\"],            \n",
    "            \"outputs\"     : [\"output.txt\"],      \n",
    "           }\n",
    "\n",
    "start = time.time()\n",
    "execute(app_def)\n",
    "print(\"total_dur : \", time.time()-start)"
   ]
  },
  {
   "cell_type": "code",
   "execution_count": null,
   "metadata": {
    "collapsed": true
   },
   "outputs": [],
   "source": [
    "def app_echo(inputs=[], stderr, stdout):        \n",
    "    cmd_line = \"echo {inputs[0]} {inputs{1}}\"\n",
    "    \n",
    "async_result = swift_execute(app_echo(inputs=[\"Hello\", \"World\"]))\n",
    "\n",
    "@App\n",
    "def echo(inputs=[], stderr, stdout):        \n",
    "    cmd_line = \"echo {inputs[0]} {inputs{1}}\"\n"
   ]
  },
  {
   "cell_type": "code",
   "execution_count": null,
   "metadata": {
    "collapsed": false
   },
   "outputs": [],
   "source": [
    "lb_view.block = True\n",
    "\n",
    "def repeat_with(n):\n",
    "    start = time.time()\n",
    "    result = lb_view.map(execute, [app_def]*5)\n",
    "    total = time.time() - start\n",
    "    print (\"total_dur : \", total)\n",
    "    return total\n",
    "\n",
    "\n",
    "repeat_with(10)\n",
    "repeat_with(100)\n",
    "repeat_with(1000)\n",
    "repeat_with(10000)\n",
    "repeat_with(100000)"
   ]
  },
  {
   "cell_type": "code",
   "execution_count": null,
   "metadata": {
    "collapsed": true
   },
   "outputs": [],
   "source": []
  },
  {
   "cell_type": "code",
   "execution_count": null,
   "metadata": {
    "collapsed": false,
    "scrolled": true
   },
   "outputs": [],
   "source": [
    "def get_data(item):\n",
    "    return item\n",
    "\n",
    "class APP(object):\n",
    "    \n",
    "    def __init__ (self, desc):\n",
    "        self.desc = desc\n",
    "    \n",
    "    def __call__ (self):\n",
    "        print(\"Calling @dview execute\")\n",
    "        return execute(self.desc)\n",
    "    \n",
    "    \n",
    "def App(apptype, inputs=[], outputs=[], env={}):\n",
    "    # App Decorator\n",
    "    print (\"Apptype\", apptype)\n",
    "    app_def = { \"exec_type\" : apptype, \n",
    "                \"inputs\" : inputs,\n",
    "                \"outputs\" : outputs,\n",
    "                \"env\" : env }\n",
    "    def Exec(f):\n",
    "        app_def[\"executable\"] = f()\n",
    "        \n",
    "        #print(\"In the inner function with arg f : {0}\".format(str(f.__code__)) )        \n",
    "        #print(\"Def  : {0}\".format(app_def))        \n",
    "        return APP(app_def)\n",
    "    \n",
    "    return Exec\n",
    "\n",
    "\n"
   ]
  },
  {
   "cell_type": "code",
   "execution_count": null,
   "metadata": {
    "collapsed": false
   },
   "outputs": [],
   "source": [
    "@App('bash', inputs=[\"hi\", \"world\"])\n",
    "def foo():\n",
    "    return \"echo 'Hello world'; sleep 5;\"\n",
    "\n",
    "\n",
    "results = foo()"
   ]
  },
  {
   "cell_type": "code",
   "execution_count": null,
   "metadata": {
    "collapsed": false
   },
   "outputs": [],
   "source": [
    "print(results)"
   ]
  },
  {
   "cell_type": "code",
   "execution_count": null,
   "metadata": {
    "collapsed": false
   },
   "outputs": [],
   "source": [
    "@App('bash', inputs=[\"hi\", \"world\"])\n",
    "def foo():\n",
    "    import os\n",
    "    os.system(\"cat {inputs[0]}\");\n",
    "    \n",
    "    "
   ]
  },
  {
   "cell_type": "code",
   "execution_count": null,
   "metadata": {
    "collapsed": false
   },
   "outputs": [],
   "source": [
    "@App('bash', command=\"cat\", inputs=[\"hi\", \"world\"])\n",
    "def swiffoo():\n",
    "    import os\n",
    "    os.system(\"{command} {inputs[0]}\".format(kwargs));\n",
    "    "
   ]
  },
  {
   "cell_type": "code",
   "execution_count": null,
   "metadata": {
    "collapsed": false
   },
   "outputs": [],
   "source": [
    "app_func(command=\"command\")"
   ]
  },
  {
   "cell_type": "code",
   "execution_count": null,
   "metadata": {
    "collapsed": false
   },
   "outputs": [],
   "source": [
    "from abc import ABCMeta\n",
    "\n",
    "def Data(metaclass=ABCMeta):\n",
    "    @abstractmethod\n",
    "    def stage_in(self):\n",
    "        return NotImplemented\n",
    "    @abstractmethod\n",
    "    def stage_out(self):\n",
    "        return NotImplemented\n",
    "    "
   ]
  },
  {
   "cell_type": "code",
   "execution_count": null,
   "metadata": {
    "collapsed": true
   },
   "outputs": [],
   "source": [
    "def S3Data(Data):\n",
    "    \n",
    "    def __init__(self)\n",
    "    def stage_in()"
   ]
  }
 ],
 "metadata": {
  "kernelspec": {
   "display_name": "Python 3",
   "language": "python",
   "name": "python3"
  },
  "language_info": {
   "codemirror_mode": {
    "name": "ipython",
    "version": 3
   },
   "file_extension": ".py",
   "mimetype": "text/x-python",
   "name": "python",
   "nbconvert_exporter": "python",
   "pygments_lexer": "ipython3",
   "version": "3.5.2"
  }
 },
 "nbformat": 4,
 "nbformat_minor": 2
}
