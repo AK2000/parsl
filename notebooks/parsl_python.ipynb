{
 "cells": [
  {
   "cell_type": "markdown",
   "metadata": {},
   "source": [
    "## Parsl Test/Demo with the @App decorators.\n",
    "\n",
    "We outline a simple set of workflow patterns and show how they can be implemented with the @App decorators.\n",
    "Here are the workflows :\n",
    "\n",
    "1. Single apps.\n",
    "2. N apps launched in parallel\n",
    "3. N apps launched in sequence such that the i'th task depends solely on the i-1'th.\n",
    "4. N sequences launched in parallel.\n"
   ]
  },
  {
   "cell_type": "code",
   "execution_count": 1,
   "metadata": {
    "collapsed": false
   },
   "outputs": [],
   "source": [
    "import time\n",
    "import random\n",
    "from parsl import *\n",
    "import parsl\n",
    "from functools import partial\n",
    "parsl.set_stream_logger()\n",
    "\n",
    "# Here we specify the \n",
    "workers = ThreadPoolExecutor(max_workers=4)\n",
    "#workers = ProcessPoolExecutor(max_workers=4)\n",
    "dfk = DataFlowKernel(workers)"
   ]
  },
  {
   "cell_type": "code",
   "execution_count": 6,
   "metadata": {
    "collapsed": false
   },
   "outputs": [
    {
     "name": "stderr",
     "output_type": "stream",
     "text": [
      "2017-02-17 20:00:11,774 parsl.app.app [DEBUG] Apptype : python\n",
      "2017-02-17 20:00:11,775 parsl.app.app [DEBUG] Executor : <class 'parsl.dataflow.dflow.DataFlowKernel'>\n",
      "2017-02-17 20:00:11,822 parsl.app.app [DEBUG] Decorator Exec : <function foo at 0x7fc959270510>\n",
      "2017-02-17 20:00:11,823 parsl.app.app [DEBUG] __init__ \n",
      "2017-02-17 20:00:11,824 parsl.app.app [DEBUG] In __Call__\n",
      "2017-02-17 20:00:11,825 parsl.app.app [DEBUG] Submitting via : <parsl.dataflow.dflow.DataFlowKernel object at 0x7fc959a86b70>\n",
      "2017-02-17 20:00:11,825 parsl.app.app [DEBUG] Exec   : functools.partial(<function foo at 0x7fc959270510>, 0)\n",
      "2017-02-17 20:00:11,826 parsl.dataflow.dflow [DEBUG] Task:275b32fb-e729-45bc-bdb6-bbb45233cecd   dep_cnt:0  deps:[]\n",
      "2017-02-17 20:00:11,827 parsl.dataflow.dflow [DEBUG] Submitting to executor : 275b32fb-e729-45bc-bdb6-bbb45233cecd\n",
      "2017-02-17 20:00:11,828 parsl.dataflow.dflow [DEBUG] Launched : 275b32fb-e729-45bc-bdb6-bbb45233cecd with <AppFuture at 0x7fc9592197b8 state=pending>\n",
      "2017-02-17 20:00:11,828 parsl.dataflow.dflow [DEBUG] Completed : 275b32fb-e729-45bc-bdb6-bbb45233cecd with <Future at 0x7fc959216780 state=finished returned int>\n",
      "2017-02-17 20:00:11,829 parsl.app.app [DEBUG] In __Call__\n",
      "2017-02-17 20:00:11,829 parsl.dataflow.dflow [DEBUG] Pending:0   Runnable:4   Done:12\n",
      "2017-02-17 20:00:11,830 parsl.app.app [DEBUG] Submitting via : <parsl.dataflow.dflow.DataFlowKernel object at 0x7fc959a86b70>\n",
      "2017-02-17 20:00:11,831 parsl.app.app [DEBUG] Exec   : functools.partial(<function foo at 0x7fc959270510>, 1)\n",
      "2017-02-17 20:00:11,832 parsl.dataflow.dflow [DEBUG] Task:ce43e52f-0ef2-4e72-a56a-2c0676ee6676   dep_cnt:0  deps:[]\n",
      "2017-02-17 20:00:11,833 parsl.dataflow.dflow [DEBUG] Submitting to executor : ce43e52f-0ef2-4e72-a56a-2c0676ee6676\n",
      "2017-02-17 20:00:11,833 parsl.dataflow.dflow [DEBUG] Launched : ce43e52f-0ef2-4e72-a56a-2c0676ee6676 with <AppFuture at 0x7fc959219ac8 state=pending>\n",
      "2017-02-17 20:00:11,834 parsl.dataflow.dflow [DEBUG] Completed : ce43e52f-0ef2-4e72-a56a-2c0676ee6676 with <Future at 0x7fc959219a58 state=finished returned int>\n",
      "2017-02-17 20:00:11,834 parsl.app.app [DEBUG] In __Call__\n",
      "2017-02-17 20:00:11,835 parsl.dataflow.dflow [DEBUG] Pending:0   Runnable:4   Done:13\n",
      "2017-02-17 20:00:11,836 parsl.app.app [DEBUG] Submitting via : <parsl.dataflow.dflow.DataFlowKernel object at 0x7fc959a86b70>\n",
      "2017-02-17 20:00:11,837 parsl.app.app [DEBUG] Exec   : functools.partial(<function foo at 0x7fc959270510>, 2)\n",
      "2017-02-17 20:00:11,838 parsl.dataflow.dflow [DEBUG] Task:777a4e2b-168f-40d0-873a-b9099230a99c   dep_cnt:0  deps:[]\n",
      "2017-02-17 20:00:11,838 parsl.dataflow.dflow [DEBUG] Submitting to executor : 777a4e2b-168f-40d0-873a-b9099230a99c\n",
      "2017-02-17 20:00:11,839 parsl.dataflow.dflow [DEBUG] Launched : 777a4e2b-168f-40d0-873a-b9099230a99c with <AppFuture at 0x7fc959219e48 state=pending>\n",
      "2017-02-17 20:00:11,839 parsl.dataflow.dflow [DEBUG] Completed : 777a4e2b-168f-40d0-873a-b9099230a99c with <Future at 0x7fc959219710 state=finished returned int>\n",
      "2017-02-17 20:00:11,840 parsl.app.app [DEBUG] In __Call__\n",
      "2017-02-17 20:00:11,841 parsl.dataflow.dflow [DEBUG] Pending:0   Runnable:4   Done:14\n",
      "2017-02-17 20:00:11,841 parsl.app.app [DEBUG] Submitting via : <parsl.dataflow.dflow.DataFlowKernel object at 0x7fc959a86b70>\n",
      "2017-02-17 20:00:11,843 parsl.app.app [DEBUG] Exec   : functools.partial(<function foo at 0x7fc959270510>, 3)\n",
      "2017-02-17 20:00:11,844 parsl.dataflow.dflow [DEBUG] Task:036e77c5-e898-4e71-a7c5-1a7bd41fa841   dep_cnt:0  deps:[]\n",
      "2017-02-17 20:00:11,844 parsl.dataflow.dflow [DEBUG] Submitting to executor : 036e77c5-e898-4e71-a7c5-1a7bd41fa841\n",
      "2017-02-17 20:00:11,845 parsl.dataflow.dflow [DEBUG] Launched : 036e77c5-e898-4e71-a7c5-1a7bd41fa841 with <AppFuture at 0x7fc959219b38 state=pending>\n",
      "2017-02-17 20:00:11,845 parsl.dataflow.dflow [DEBUG] Completed : 036e77c5-e898-4e71-a7c5-1a7bd41fa841 with <Future at 0x7fc959219b70 state=finished returned int>\n",
      "2017-02-17 20:00:11,846 parsl.app.app [DEBUG] In __Call__\n",
      "2017-02-17 20:00:11,847 parsl.dataflow.dflow [DEBUG] Pending:0   Runnable:4   Done:15\n",
      "2017-02-17 20:00:11,847 parsl.app.app [DEBUG] Submitting via : <parsl.dataflow.dflow.DataFlowKernel object at 0x7fc959a86b70>\n",
      "2017-02-17 20:00:11,849 parsl.app.app [DEBUG] Exec   : functools.partial(<function foo at 0x7fc959270510>, 4)\n",
      "2017-02-17 20:00:11,849 parsl.dataflow.dflow [DEBUG] Task:6d9f3dbb-35ec-42d7-8267-8040b65daa38   dep_cnt:0  deps:[]\n",
      "2017-02-17 20:00:11,850 parsl.dataflow.dflow [DEBUG] Submitting to executor : 6d9f3dbb-35ec-42d7-8267-8040b65daa38\n",
      "2017-02-17 20:00:11,850 parsl.dataflow.dflow [DEBUG] Launched : 6d9f3dbb-35ec-42d7-8267-8040b65daa38 with <AppFuture at 0x7fc9592198d0 state=pending>\n",
      "2017-02-17 20:00:11,851 parsl.dataflow.dflow [DEBUG] Completed : 6d9f3dbb-35ec-42d7-8267-8040b65daa38 with <Future at 0x7fc959219eb8 state=finished returned int>\n",
      "2017-02-17 20:00:11,851 parsl.app.app [DEBUG] In __Call__\n",
      "2017-02-17 20:00:11,852 parsl.dataflow.dflow [DEBUG] Pending:0   Runnable:4   Done:16\n",
      "2017-02-17 20:00:11,853 parsl.app.app [DEBUG] Submitting via : <parsl.dataflow.dflow.DataFlowKernel object at 0x7fc959a86b70>\n",
      "2017-02-17 20:00:11,854 parsl.app.app [DEBUG] Exec   : functools.partial(<function foo at 0x7fc959270510>, 5)\n",
      "2017-02-17 20:00:11,855 parsl.dataflow.dflow [DEBUG] Task:fa6e9589-9667-45bd-87ba-4863075c7140   dep_cnt:0  deps:[]\n",
      "2017-02-17 20:00:11,856 parsl.dataflow.dflow [DEBUG] Submitting to executor : fa6e9589-9667-45bd-87ba-4863075c7140\n",
      "2017-02-17 20:00:11,856 parsl.dataflow.dflow [DEBUG] Launched : fa6e9589-9667-45bd-87ba-4863075c7140 with <AppFuture at 0x7fc959219a20 state=pending>\n",
      "2017-02-17 20:00:11,856 parsl.dataflow.dflow [DEBUG] Completed : fa6e9589-9667-45bd-87ba-4863075c7140 with <Future at 0x7fc959219e80 state=finished returned int>\n",
      "2017-02-17 20:00:11,857 parsl.app.app [DEBUG] In __Call__\n",
      "2017-02-17 20:00:11,858 parsl.dataflow.dflow [DEBUG] Pending:0   Runnable:4   Done:17\n",
      "2017-02-17 20:00:11,859 parsl.app.app [DEBUG] Submitting via : <parsl.dataflow.dflow.DataFlowKernel object at 0x7fc959a86b70>\n",
      "2017-02-17 20:00:11,860 parsl.app.app [DEBUG] Exec   : functools.partial(<function foo at 0x7fc959270510>, 6)\n",
      "2017-02-17 20:00:11,861 parsl.dataflow.dflow [DEBUG] Task:1f6dfc35-c9b6-490b-9369-c74020808d2d   dep_cnt:0  deps:[]\n",
      "2017-02-17 20:00:11,861 parsl.dataflow.dflow [DEBUG] Submitting to executor : 1f6dfc35-c9b6-490b-9369-c74020808d2d\n",
      "2017-02-17 20:00:11,862 parsl.dataflow.dflow [DEBUG] Launched : 1f6dfc35-c9b6-490b-9369-c74020808d2d with <AppFuture at 0x7fc959210278 state=pending>\n",
      "2017-02-17 20:00:11,862 parsl.dataflow.dflow [DEBUG] Completed : 1f6dfc35-c9b6-490b-9369-c74020808d2d with <Future at 0x7fc9592194e0 state=finished returned int>\n",
      "2017-02-17 20:00:11,863 parsl.app.app [DEBUG] In __Call__\n",
      "2017-02-17 20:00:11,863 parsl.dataflow.dflow [DEBUG] Pending:0   Runnable:4   Done:18\n",
      "2017-02-17 20:00:11,864 parsl.app.app [DEBUG] Submitting via : <parsl.dataflow.dflow.DataFlowKernel object at 0x7fc959a86b70>\n",
      "2017-02-17 20:00:11,865 parsl.app.app [DEBUG] Exec   : functools.partial(<function foo at 0x7fc959270510>, 7)\n",
      "2017-02-17 20:00:11,866 parsl.dataflow.dflow [DEBUG] Task:894ee64c-214e-405d-9599-c71acc59fbd9   dep_cnt:0  deps:[]\n",
      "2017-02-17 20:00:11,867 parsl.dataflow.dflow [DEBUG] Submitting to executor : 894ee64c-214e-405d-9599-c71acc59fbd9\n",
      "2017-02-17 20:00:11,867 parsl.dataflow.dflow [DEBUG] Launched : 894ee64c-214e-405d-9599-c71acc59fbd9 with <AppFuture at 0x7fc959210048 state=pending>\n",
      "2017-02-17 20:00:11,867 parsl.dataflow.dflow [DEBUG] Completed : 894ee64c-214e-405d-9599-c71acc59fbd9 with <Future at 0x7fc959210240 state=finished returned int>\n",
      "2017-02-17 20:00:11,868 parsl.app.app [DEBUG] In __Call__\n",
      "2017-02-17 20:00:11,869 parsl.dataflow.dflow [DEBUG] Pending:0   Runnable:4   Done:19\n",
      "2017-02-17 20:00:11,870 parsl.app.app [DEBUG] Submitting via : <parsl.dataflow.dflow.DataFlowKernel object at 0x7fc959a86b70>\n",
      "2017-02-17 20:00:11,871 parsl.app.app [DEBUG] Exec   : functools.partial(<function foo at 0x7fc959270510>, 8)\n",
      "2017-02-17 20:00:11,872 parsl.dataflow.dflow [DEBUG] Task:5abf214b-2856-4db2-b261-5fce30c8b7a1   dep_cnt:0  deps:[]\n",
      "2017-02-17 20:00:11,872 parsl.dataflow.dflow [DEBUG] Submitting to executor : 5abf214b-2856-4db2-b261-5fce30c8b7a1\n",
      "2017-02-17 20:00:11,873 parsl.dataflow.dflow [DEBUG] Launched : 5abf214b-2856-4db2-b261-5fce30c8b7a1 with <AppFuture at 0x7fc959210390 state=pending>\n",
      "2017-02-17 20:00:11,873 parsl.dataflow.dflow [DEBUG] Completed : 5abf214b-2856-4db2-b261-5fce30c8b7a1 with <Future at 0x7fc959210518 state=finished returned int>\n",
      "2017-02-17 20:00:11,874 parsl.app.app [DEBUG] In __Call__\n",
      "2017-02-17 20:00:11,875 parsl.dataflow.dflow [DEBUG] Pending:0   Runnable:4   Done:20\n",
      "2017-02-17 20:00:11,875 parsl.app.app [DEBUG] Submitting via : <parsl.dataflow.dflow.DataFlowKernel object at 0x7fc959a86b70>\n",
      "2017-02-17 20:00:11,877 parsl.app.app [DEBUG] Exec   : functools.partial(<function foo at 0x7fc959270510>, 9)\n",
      "2017-02-17 20:00:11,877 parsl.dataflow.dflow [DEBUG] Task:015ba0a2-244b-4eea-aab5-23007d81eef9   dep_cnt:0  deps:[]\n",
      "2017-02-17 20:00:11,878 parsl.dataflow.dflow [DEBUG] Submitting to executor : 015ba0a2-244b-4eea-aab5-23007d81eef9\n",
      "2017-02-17 20:00:11,879 parsl.dataflow.dflow [DEBUG] Launched : 015ba0a2-244b-4eea-aab5-23007d81eef9 with <AppFuture at 0x7fc959210748 state=pending>\n",
      "2017-02-17 20:00:11,879 parsl.dataflow.dflow [DEBUG] Completed : 015ba0a2-244b-4eea-aab5-23007d81eef9 with <Future at 0x7fc959210080 state=finished returned int>\n",
      "2017-02-17 20:00:11,880 parsl.dataflow.dflow [DEBUG] Pending:0   Runnable:4   Done:21\n"
     ]
    },
    {
     "name": "stdout",
     "output_type": "stream",
     "text": [
      "[True, True, True, True, True, True, True, True, True, True]\n"
     ]
    }
   ],
   "source": [
    "@App('python', dfk)\n",
    "def foo(x):\n",
    "    return x*2\n",
    "\n",
    "futs = []\n",
    "for i in range(0,10):\n",
    "    x, _ = foo(i)\n",
    "    futs.extend([x])\n",
    "time.sleep(2)\n",
    "print([i.done() for i in futs])"
   ]
  },
  {
   "cell_type": "code",
   "execution_count": null,
   "metadata": {
    "collapsed": false
   },
   "outputs": [],
   "source": [
    "@App('python', dfk)\n",
    "def incr(x):\n",
    "    return x+1\n",
    "\n",
    "\n",
    "for i in range(0, 10):\n",
    "    x, _ = incr()"
   ]
  },
  {
   "cell_type": "code",
   "execution_count": null,
   "metadata": {
    "collapsed": false
   },
   "outputs": [],
   "source": [
    "with open('test.txt', 'w') as tmp:\n",
    "    tmp.write(\"E=mc^2\")\n",
    "    \n",
    "f, outs = cats_n_sleep (x=5,inputs=['test.txt'],outputs=['out.txt'])"
   ]
  },
  {
   "cell_type": "code",
   "execution_count": null,
   "metadata": {
    "collapsed": false
   },
   "outputs": [],
   "source": [
    "print(f,outs)\n",
    "print(\"Duration      : \", f.result())\n",
    "print(\"Output        : \", outs[0].result())\n",
    "print(\"Output done ? : \", outs[0].done())"
   ]
  },
  {
   "cell_type": "code",
   "execution_count": null,
   "metadata": {
    "collapsed": false
   },
   "outputs": [],
   "source": [
    "%%time\n",
    "import os\n",
    "import shutil\n",
    "shutil.rmtree('./outputs') ; os.mkdir('./outputs')\n",
    "\n",
    "''' This tests the first pattern, a parallel for loop.\n",
    "\n",
    "Pool          |     Width      |     Duration\n",
    "Process       |     10K        |       2.96s\n",
    "Process       |      1K        |       311ms\n",
    "Process       |    100K        |       29.6s\n",
    "'''\n",
    "\n",
    "def launch_n (n):\n",
    "    d = {}    \n",
    "    for i in range(0,n):        \n",
    "        d[i] = cats_n_sleep(x=4, inputs=['test.txt'], outputs=['outputs/out.{0}.txt'.format(i)])\n",
    "    return d\n",
    "\n",
    "x = launch_n(4)\n",
    "os.listdir('outputs/')"
   ]
  },
  {
   "cell_type": "code",
   "execution_count": null,
   "metadata": {
    "collapsed": false
   },
   "outputs": [],
   "source": [
    "print([x[i][1][0].filepath for i in x])\n",
    "os.listdir('outputs/')"
   ]
  },
  {
   "cell_type": "code",
   "execution_count": null,
   "metadata": {
    "collapsed": false
   },
   "outputs": [],
   "source": [
    "%%time\n",
    "''' Testing Pipeline, a sequence of dependencies.\n",
    "\n",
    "A -> B ... -> N\n",
    "\n",
    "'''\n",
    "open('start.txt', 'w').write('0');\n",
    "\n",
    "def pipeline_n (n):\n",
    "    d    = {}\n",
    "    deps = ['start.txt']\n",
    "    for i in range(0,n):        \n",
    "        print(i, deps)         \n",
    "        fu, deps = incr(inputs=deps, outputs=['incr.{0}.txt'.format(i)])\n",
    "        d[i] = {'App_fu' : fu, 'Data_fu' : deps}\n",
    "    return d\n",
    "\n",
    "\n",
    "foo = pipeline_n (5)\n",
    "print(foo)"
   ]
  },
  {
   "cell_type": "code",
   "execution_count": null,
   "metadata": {
    "collapsed": false
   },
   "outputs": [],
   "source": [
    "for key in sorted(foo.keys()):\n",
    "    print (key, foo[key]['Data_fu'][0].filepath, open(foo[key]['Data_fu'][0].filepath,'r').read())"
   ]
  },
  {
   "cell_type": "code",
   "execution_count": null,
   "metadata": {
    "collapsed": false
   },
   "outputs": [],
   "source": [
    "'''  MapReduce\n",
    "        foo   foo ... foo\n",
    "          \\    |      /\n",
    "           \\   |     /\n",
    "             merge\n",
    "''' \n",
    "\n",
    "\n",
    "def map_n_reduce(n, dfk):\n",
    "    map_stage = []\n",
    "    for i in range(0,n):\n",
    "        fu, outs = echo_to_file(inputs=[str(i)], outputs=['map.{0}.txt'.format(i)])\n",
    "        map_stage.extend(outs)        \n",
    "    \n",
    "    red = echo_to_file(inputs=map_stage, outputs=['reduced.txt'])    \n",
    "    return map_stage, red\n",
    "\n",
    "m,r = map_n_reduce(3, dfk)"
   ]
  },
  {
   "cell_type": "code",
   "execution_count": null,
   "metadata": {
    "collapsed": false
   },
   "outputs": [],
   "source": [
    "print(m, r)\n",
    "\n",
    "r[1][0].result()"
   ]
  },
  {
   "cell_type": "code",
   "execution_count": null,
   "metadata": {
    "collapsed": false
   },
   "outputs": [],
   "source": [
    "print(open('reduced.txt', 'r').read())"
   ]
  },
  {
   "cell_type": "code",
   "execution_count": 2,
   "metadata": {
    "collapsed": false
   },
   "outputs": [
    {
     "name": "stderr",
     "output_type": "stream",
     "text": [
      "2017-02-17 19:16:59,595 parsl.app.app [DEBUG] Apptype : python\n",
      "2017-02-17 19:16:59,596 parsl.app.app [DEBUG] Executor : <class 'parsl.dataflow.dflow.DataFlowKernel'>\n",
      "2017-02-17 19:16:59,597 parsl.app.app [DEBUG] Decorator Exec : <function foo at 0x7f5f646899d8>\n",
      "2017-02-17 19:16:59,597 parsl.app.app [DEBUG] __init__ \n"
     ]
    }
   ],
   "source": [
    "@App('python', dfk)\n",
    "def foo(x):\n",
    "    return x*3"
   ]
  },
  {
   "cell_type": "code",
   "execution_count": 4,
   "metadata": {
    "collapsed": false
   },
   "outputs": [
    {
     "name": "stderr",
     "output_type": "stream",
     "text": [
      "2017-02-17 19:17:17,649 parsl.app.app [DEBUG] In __Call__\n",
      "2017-02-17 19:17:17,650 parsl.app.app [DEBUG] Submitting via : <parsl.dataflow.dflow.DataFlowKernel object at 0x7f5f64ecef98>\n",
      "2017-02-17 19:17:17,723 parsl.app.app [DEBUG] Exec   : functools.partial(<function foo at 0x7f5f646899d8>, 5)\n",
      "2017-02-17 19:17:17,723 parsl.dataflow.dflow [DEBUG] Task:8669c4b2-98bf-4db2-9ca8-dd0ca2bbfb35   dep_cnt:0  deps:[]\n",
      "2017-02-17 19:17:17,724 parsl.dataflow.dflow [DEBUG] Submitting to executor : 8669c4b2-98bf-4db2-9ca8-dd0ca2bbfb35\n",
      "2017-02-17 19:17:17,725 parsl.dataflow.dflow [DEBUG] Completed : 8669c4b2-98bf-4db2-9ca8-dd0ca2bbfb35 with <Future at 0x7f5f64ef71d0 state=finished returned int>\n",
      "2017-02-17 19:17:17,726 parsl.dataflow.dflow [DEBUG] Pending:0   Runnable:1   Done:2\n",
      "2017-02-17 19:17:17,726 parsl.dataflow.dflow [DEBUG] Launched : 8669c4b2-98bf-4db2-9ca8-dd0ca2bbfb35 with <AppFuture at 0x7f5f6467e320 state=finished returned int>\n",
      "2017-02-17 19:17:17,727 parsl.dataflow.futures [DEBUG] Waiting on result of 140047683150624 on 140047692034512\n"
     ]
    },
    {
     "name": "stdout",
     "output_type": "stream",
     "text": [
      "15\n"
     ]
    }
   ],
   "source": [
    "x = foo(5)\n",
    "print(x[0].result())"
   ]
  }
 ],
 "metadata": {
  "kernelspec": {
   "display_name": "Python 3",
   "language": "python",
   "name": "python3"
  },
  "language_info": {
   "codemirror_mode": {
    "name": "ipython",
    "version": 3
   },
   "file_extension": ".py",
   "mimetype": "text/x-python",
   "name": "python",
   "nbconvert_exporter": "python",
   "pygments_lexer": "ipython3",
   "version": "3.5.2"
  }
 },
 "nbformat": 4,
 "nbformat_minor": 2
}
