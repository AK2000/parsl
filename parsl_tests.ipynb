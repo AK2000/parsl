{
 "cells": [
  {
   "cell_type": "markdown",
   "metadata": {},
   "source": [
    "## Parsl Test/Demo\n",
    "\n",
    "We outline a simple set of workflow patterns and show how they can be implemented with the raw DataFlowKernel.\n",
    "Here are the workflows :\n",
    "\n",
    "1. Single apps.\n",
    "2. N apps launched in parallel\n",
    "3. N apps launched in sequence such that the i'th task depends solely on the i-1'th.\n",
    "4. N sequences launched in parallel.\n"
   ]
  },
  {
   "cell_type": "code",
   "execution_count": 1,
   "metadata": {
    "collapsed": false
   },
   "outputs": [],
   "source": [
    "import time\n",
    "import random\n",
    "from parsl import *\n",
    "import parsl\n",
    "from functools import partial\n",
    "#parsl.set_stream_logger()\n",
    "\n",
    "#workers = ThreadPoolExecutor(max_workers=4)\n",
    "workers = ProcessPoolExecutor(max_workers=4)\n",
    "dfk = DataFlowKernel(workers)\n",
    "\n",
    "def cback(*args):\n",
    "    #print(\"cbk : {}\", args)\n",
    "    return args[0]*5\n",
    "\n",
    "def sleep_n (x):\n",
    "    time.sleep(x)\n",
    "    return x\n",
    "\n",
    "def sleep_n_rand(x,y):\n",
    "    ''' Sleep x +/- random(y) seconds\n",
    "    '''\n",
    "    import time\n",
    "    import random\n",
    "    dur = x+random.randint(-y,y)\n",
    "    time.sleep(dur)\n",
    "    return dur"
   ]
  },
  {
   "cell_type": "code",
   "execution_count": 2,
   "metadata": {
    "collapsed": false
   },
   "outputs": [],
   "source": [
    "x = dfk.submit(partial(cback,1), [], None)"
   ]
  },
  {
   "cell_type": "code",
   "execution_count": 3,
   "metadata": {
    "collapsed": false
   },
   "outputs": [
    {
     "name": "stdout",
     "output_type": "stream",
     "text": [
      "5\n"
     ]
    }
   ],
   "source": [
    "print(x.result())"
   ]
  },
  {
   "cell_type": "code",
   "execution_count": 9,
   "metadata": {
    "collapsed": false
   },
   "outputs": [
    {
     "name": "stdout",
     "output_type": "stream",
     "text": [
      "24999750000\n",
      "CPU times: user 31.7 s, sys: 8.04 s, total: 39.8 s\n",
      "Wall time: 29.6 s\n"
     ]
    }
   ],
   "source": [
    "%%time\n",
    "\n",
    "''' This tests the first pattern, a parallel for loop.\n",
    "\n",
    "Pool          |     Width      |     Duration\n",
    "Process       |     10K        |       2.96s\n",
    "Process       |      1K        |       311ms\n",
    "Process       |    100K        |       29.6s\n",
    "'''\n",
    "\n",
    "def launch_n (n):\n",
    "    d = {}    \n",
    "    for i in range(0,n):\n",
    "        #d[i] = dfk.submit(partial(sleep_n_rand,10,5), [], None)\n",
    "        d[i] = dfk.submit(partial(cback,i), [], None)\n",
    "    return d\n",
    "\n",
    "x = launch_n(100000)\n",
    "#time.sleep(10)\n",
    "print(sum([x[i].result() for i in x]))"
   ]
  },
  {
   "cell_type": "code",
   "execution_count": null,
   "metadata": {
    "collapsed": false
   },
   "outputs": [],
   "source": [
    "%%time\n",
    "''' Testing Pipeline, a sequence of dependencies.\n",
    "\n",
    "A -> B ... -> N\n",
    "\n",
    "'''\n",
    "\n",
    "def pipeline_n (n):\n",
    "    d = {}\n",
    "    for i in range(0,n):\n",
    "        if i-1 not in d:        \n",
    "            deps = [] \n",
    "        else:\n",
    "            deps = [d[i-1]]\n",
    "            \n",
    "        print(i, deps)        \n",
    "        #d[i] = \"hello {0}\".format(i)\n",
    "        #d[i] = dfk.submit(partial(cback,1), deps, None)\n",
    "        d[i] = dfk.submit(partial(sleep_n_rand,5,5), deps, None)\n",
    "        \n",
    "    return d\n",
    "\n",
    "\n",
    "foo = pipeline_n (4)\n",
    "print(foo)"
   ]
  },
  {
   "cell_type": "code",
   "execution_count": null,
   "metadata": {
    "collapsed": false
   },
   "outputs": [],
   "source": [
    "'''  Pipeline\n",
    "     A -> B ... -> N\n",
    "'''\n",
    "import time\n",
    "\n",
    "def sleep_n (x):\n",
    "    time.sleep(x)\n",
    "    return x\n",
    "\n",
    "def pipeline_n (n):\n",
    "    d = {}\n",
    "    for i in range(0,n):\n",
    "        if i-1 not in d:        \n",
    "            deps = [] \n",
    "        else:\n",
    "            deps = [d[i-1]]\n",
    "            \n",
    "        print(i, deps)        \n",
    "        #d[i] = \"hello {0}\".format(i)\n",
    "        d[i] = dfk.submit(partial(sleep_n, 10), deps, None)\n",
    "        \n",
    "    return d\n",
    "\n",
    "\n",
    "foo = pipeline_n (4)\n",
    "#dfk.current_state()\n",
    "print ([foo[i].result() for i in foo])"
   ]
  },
  {
   "cell_type": "code",
   "execution_count": null,
   "metadata": {
    "collapsed": false
   },
   "outputs": [],
   "source": [
    "'''  MapReduce\n",
    "        foo   foo ... foo\n",
    "          \\    |      /\n",
    "           \\   |     /\n",
    "             merge\n",
    "''' \n",
    "\n",
    "\n",
    "def map_n_reduce(n, dfk):\n",
    "    map_stage = []\n",
    "    for i in range(0,n):\n",
    "        map_stage.append(dfk.submit(partial(sleep_n, 2), [], None))\n",
    "    \n",
    "    #print(map_stage)\n",
    "    red = dfk.submit(partial(sleep_n, 1), map_stage, None)\n",
    "    return map_stage, red\n",
    "\n",
    "m,r = map_n_reduce(1, dfk)"
   ]
  },
  {
   "cell_type": "code",
   "execution_count": null,
   "metadata": {
    "collapsed": false
   },
   "outputs": [],
   "source": [
    "print(m, r)\n",
    "\n",
    "r.result()"
   ]
  }
 ],
 "metadata": {
  "kernelspec": {
   "display_name": "Python 3",
   "language": "python",
   "name": "python3"
  },
  "language_info": {
   "codemirror_mode": {
    "name": "ipython",
    "version": 3
   },
   "file_extension": ".py",
   "mimetype": "text/x-python",
   "name": "python",
   "nbconvert_exporter": "python",
   "pygments_lexer": "ipython3",
   "version": "3.5.2"
  }
 },
 "nbformat": 4,
 "nbformat_minor": 2
}
