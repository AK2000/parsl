{
 "cells": [
  {
   "cell_type": "code",
   "execution_count": 1,
   "metadata": {
    "collapsed": true
   },
   "outputs": [],
   "source": [
    "import parsl\n",
    "import time\n",
    "from parsl import *"
   ]
  },
  {
   "cell_type": "code",
   "execution_count": 2,
   "metadata": {
    "collapsed": true
   },
   "outputs": [],
   "source": [
    "from parsl.execution_provider.slurm.slurm import Slurm\n",
    "parsl.set_stream_logger()"
   ]
  },
  {
   "cell_type": "code",
   "execution_count": 3,
   "metadata": {
    "collapsed": true
   },
   "outputs": [],
   "source": [
    "config = {  \"site\" : \"midway_westmere\",\n",
    "            \"execution\" :\n",
    "                { \"options\" :\n",
    "                  {\"init_parallelism\" : 2,\n",
    "                   \"max_parallelism\" : 2,\n",
    "                   \"min_parallelism\" : 0,\n",
    "                   \"tasks_per_node\"  : 1,\n",
    "                   \"nodes_granularity\" : 1,\n",
    "                   \"queue\" : \"westmere\",\n",
    "                   \"walltime\" : \"00:25:00\",\n",
    "                   \"account\" : \"pi-wilde\",\n",
    "                   \"submit_script_dir\" : \".scripts\"\n",
    "                  }\n",
    "                }}"
   ]
  },
  {
   "cell_type": "code",
   "execution_count": 4,
   "metadata": {
    "collapsed": true
   },
   "outputs": [],
   "source": [
    "slurm = Slurm (config)"
   ]
  },
  {
   "cell_type": "code",
   "execution_count": 5,
   "metadata": {},
   "outputs": [
    {
     "name": "stderr",
     "output_type": "stream",
     "text": [
      "2017-07-26 17:06:43,706 parsl.execution_provider.slurm.slurm [DEBUG]  Requesting blocksize:1 tasks_per_node:1 nodes:1\n"
     ]
    },
    {
     "name": "stdout",
     "output_type": "stream",
     "text": [
      "Script_filename :  .scripts/parsl.parsl.auto.1501106803.7066412.submit\n"
     ]
    },
    {
     "name": "stderr",
     "output_type": "stream",
     "text": [
      "2017-07-26 17:06:45,979 parsl.execution_provider.slurm.slurm [DEBUG]  Retcode:0 STDOUT:Submitted batch job 32695499 STDERR:\n",
      "2017-07-26 17:06:45,981 parsl.execution_provider.slurm.slurm [DEBUG]  Requesting blocksize:1 tasks_per_node:1 nodes:1\n",
      "2017-07-26 17:06:46,099 parsl.execution_provider.slurm.slurm [DEBUG]  Retcode:0 STDOUT:Submitted batch job 32695500 STDERR:\n"
     ]
    },
    {
     "name": "stdout",
     "output_type": "stream",
     "text": [
      "Script_filename :  .scripts/parsl.parsl.auto.1501106805.9810998.submit\n"
     ]
    }
   ],
   "source": [
    "script = '''echo \"sleeping\"                                                                                                                                                                                          \n",
    "sleep 5                                                                                                                                                                                                                   \n",
    "echo \"Done sleeping\" '''\n",
    "\n",
    "x = slurm.submit(script, 1)\n",
    "y = slurm.submit(script, 1)"
   ]
  },
  {
   "cell_type": "code",
   "execution_count": 6,
   "metadata": {},
   "outputs": [
    {
     "data": {
      "text/plain": [
       "['RUNNING', 'PENDING']"
      ]
     },
     "execution_count": 6,
     "metadata": {},
     "output_type": "execute_result"
    }
   ],
   "source": [
    "slurm.status([x,y])"
   ]
  },
  {
   "cell_type": "code",
   "execution_count": 7,
   "metadata": {},
   "outputs": [
    {
     "data": {
      "text/plain": [
       "[True]"
      ]
     },
     "execution_count": 7,
     "metadata": {},
     "output_type": "execute_result"
    }
   ],
   "source": [
    "slurm.cancel([x])"
   ]
  },
  {
   "cell_type": "code",
   "execution_count": 8,
   "metadata": {},
   "outputs": [
    {
     "name": "stdout",
     "output_type": "stream",
     "text": [
      "['RUNNING', 'PENDING']\n",
      "['COMPLETED', 'RUNNING']\n",
      "['COMPLETED', 'RUNNING']\n",
      "['COMPLETED', 'COMPLETED']\n",
      "['COMPLETED', 'COMPLETED']\n",
      "['COMPLETED', 'COMPLETED']\n",
      "['COMPLETED', 'COMPLETED']\n",
      "['COMPLETED', 'COMPLETED']\n",
      "['COMPLETED', 'COMPLETED']\n",
      "['COMPLETED', 'COMPLETED']\n",
      "done\n"
     ]
    }
   ],
   "source": [
    "for i in range(0,10):\n",
    "    print(slurm.status([x,y]))\n",
    "    time.sleep(1)\n",
    "print(\"done\")"
   ]
  }
 ],
 "metadata": {
  "kernelspec": {
   "display_name": "Python 3",
   "language": "python",
   "name": "python3"
  },
  "language_info": {
   "codemirror_mode": {
    "name": "ipython",
    "version": 3
   },
   "file_extension": ".py",
   "mimetype": "text/x-python",
   "name": "python",
   "nbconvert_exporter": "python",
   "pygments_lexer": "ipython3",
   "version": "3.6.1"
  }
 },
 "nbformat": 4,
 "nbformat_minor": 2
}
