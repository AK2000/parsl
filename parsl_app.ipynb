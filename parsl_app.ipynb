{
 "cells": [
  {
   "cell_type": "markdown",
   "metadata": {},
   "source": [
    "## Parsl Test/Demo with the @App decorators.\n",
    "\n",
    "We outline a simple set of workflow patterns and show how they can be implemented with the @App decorators.\n",
    "Here are the workflows :\n",
    "\n",
    "1. Single apps.\n",
    "2. N apps launched in parallel\n",
    "3. N apps launched in sequence such that the i'th task depends solely on the i-1'th.\n",
    "4. N sequences launched in parallel.\n"
   ]
  },
  {
   "cell_type": "code",
   "execution_count": 1,
   "metadata": {
    "collapsed": false
   },
   "outputs": [
    {
     "name": "stderr",
     "output_type": "stream",
     "text": [
      "2017-02-17 19:16:56,140 parsl.app.app [DEBUG] Apptype : bash\n",
      "2017-02-17 19:16:56,141 parsl.app.app [DEBUG] Executor : <class 'parsl.dataflow.dflow.DataFlowKernel'>\n",
      "2017-02-17 19:16:56,141 parsl.app.app [DEBUG] Decorator Exec : <function echo at 0x7f5f64689400>\n",
      "2017-02-17 19:16:56,142 parsl.app.app [DEBUG] __init__ \n",
      "2017-02-17 19:16:56,143 parsl.app.app [DEBUG] Apptype : bash\n",
      "2017-02-17 19:16:56,144 parsl.app.app [DEBUG] Executor : <class 'parsl.dataflow.dflow.DataFlowKernel'>\n",
      "2017-02-17 19:16:56,144 parsl.app.app [DEBUG] Decorator Exec : <function echo_to_file at 0x7f5f64689598>\n",
      "2017-02-17 19:16:56,145 parsl.app.app [DEBUG] __init__ \n",
      "2017-02-17 19:16:56,146 parsl.app.app [DEBUG] Apptype : bash\n",
      "2017-02-17 19:16:56,146 parsl.app.app [DEBUG] Executor : <class 'parsl.dataflow.dflow.DataFlowKernel'>\n",
      "2017-02-17 19:16:56,147 parsl.app.app [DEBUG] Decorator Exec : <function sleep_n at 0x7f5f646898c8>\n",
      "2017-02-17 19:16:56,148 parsl.app.app [DEBUG] __init__ \n",
      "2017-02-17 19:16:56,148 parsl.app.app [DEBUG] Apptype : bash\n",
      "2017-02-17 19:16:56,149 parsl.app.app [DEBUG] Executor : <class 'parsl.dataflow.dflow.DataFlowKernel'>\n",
      "2017-02-17 19:16:56,150 parsl.app.app [DEBUG] Decorator Exec : <function cats_n_sleep at 0x7f5f64689ae8>\n",
      "2017-02-17 19:16:56,150 parsl.app.app [DEBUG] __init__ \n",
      "2017-02-17 19:16:56,151 parsl.app.app [DEBUG] Apptype : bash\n",
      "2017-02-17 19:16:56,152 parsl.app.app [DEBUG] Executor : <class 'parsl.dataflow.dflow.DataFlowKernel'>\n",
      "2017-02-17 19:16:56,152 parsl.app.app [DEBUG] Decorator Exec : <function incr at 0x7f5f64689bf8>\n",
      "2017-02-17 19:16:56,153 parsl.app.app [DEBUG] __init__ \n"
     ]
    }
   ],
   "source": [
    "import time\n",
    "import random\n",
    "from parsl import *\n",
    "import parsl\n",
    "from functools import partial\n",
    "parsl.set_stream_logger()\n",
    "\n",
    "# Here we specify the \n",
    "workers = ThreadPoolExecutor(max_workers=4)\n",
    "#workers = ProcessPoolExecutor(max_workers=4)\n",
    "dfk = DataFlowKernel(workers)\n",
    "\n",
    "''' Here we define some basic bash apps.\n",
    "'''\n",
    "@App('bash', dfk)\n",
    "def echo(inputs=[], stderr='std.err', stdout='std.out'):        \n",
    "    cmd_line = 'echo {inputs[0]} {inputs[1]}'\n",
    "\n",
    "@App('bash', dfk)\n",
    "def echo_to_file(inputs=[], outputs=[], stderr='std.err', stdout='std.out'):        \n",
    "    cmd_line = 'echo {inputs} > {outputs[0]}'\n",
    "    \n",
    "@App('bash', dfk)\n",
    "def sleep_n(t):\n",
    "    cmd_line = 'sleep {t}'    \n",
    "\n",
    "@App('bash', dfk)\n",
    "def cats_n_sleep (x, inputs, outputs):\n",
    "    cmd_line = 'sleep $(($RANDOM % {x})); cat {inputs[0]} > {outputs[0]}'\n",
    "    \n",
    "@App('bash', dfk)\n",
    "def incr (inputs, outputs):\n",
    "    cmd_line = 'y=$(cat {inputs[0]}); echo $(($y+1)) > {outputs[0]}'\n",
    "    "
   ]
  },
  {
   "cell_type": "code",
   "execution_count": null,
   "metadata": {
    "collapsed": false
   },
   "outputs": [],
   "source": [
    "fu, outs = echo(inputs=[\"Hello\", \"World!\"], stdout='std.out', stderr='std.err')"
   ]
  },
  {
   "cell_type": "code",
   "execution_count": null,
   "metadata": {
    "collapsed": false
   },
   "outputs": [],
   "source": [
    "#fu, outs = echo(inputs=[\"Hello\", \"World\"])\n",
    "print(fu, outs)"
   ]
  },
  {
   "cell_type": "code",
   "execution_count": null,
   "metadata": {
    "collapsed": false
   },
   "outputs": [],
   "source": [
    "with open('test.txt', 'w') as tmp:\n",
    "    tmp.write(\"E=mc^2\")\n",
    "    \n",
    "f, outs = cats_n_sleep (x=5,inputs=['test.txt'],outputs=['out.txt'])"
   ]
  },
  {
   "cell_type": "code",
   "execution_count": null,
   "metadata": {
    "collapsed": false
   },
   "outputs": [],
   "source": [
    "print(f,outs)\n",
    "print(\"Duration      : \", f.result())\n",
    "print(\"Output        : \", outs[0].result())\n",
    "print(\"Output done ? : \", outs[0].done())"
   ]
  },
  {
   "cell_type": "code",
   "execution_count": null,
   "metadata": {
    "collapsed": false
   },
   "outputs": [],
   "source": [
    "%%time\n",
    "import os\n",
    "import shutil\n",
    "shutil.rmtree('./outputs') ; os.mkdir('./outputs')\n",
    "\n",
    "''' This tests the first pattern, a parallel for loop.\n",
    "\n",
    "Pool          |     Width      |     Duration\n",
    "Process       |     10K        |       2.96s\n",
    "Process       |      1K        |       311ms\n",
    "Process       |    100K        |       29.6s\n",
    "'''\n",
    "\n",
    "def launch_n (n):\n",
    "    d = {}    \n",
    "    for i in range(0,n):        \n",
    "        d[i] = cats_n_sleep(x=4, inputs=['test.txt'], outputs=['outputs/out.{0}.txt'.format(i)])\n",
    "    return d\n",
    "\n",
    "x = launch_n(4)\n",
    "os.listdir('outputs/')"
   ]
  },
  {
   "cell_type": "code",
   "execution_count": null,
   "metadata": {
    "collapsed": false
   },
   "outputs": [],
   "source": [
    "print([x[i][1][0].filepath for i in x])\n",
    "os.listdir('outputs/')"
   ]
  },
  {
   "cell_type": "code",
   "execution_count": null,
   "metadata": {
    "collapsed": false
   },
   "outputs": [],
   "source": [
    "%%time\n",
    "''' Testing Pipeline, a sequence of dependencies.\n",
    "\n",
    "A -> B ... -> N\n",
    "\n",
    "'''\n",
    "open('start.txt', 'w').write('0');\n",
    "\n",
    "def pipeline_n (n):\n",
    "    d    = {}\n",
    "    deps = ['start.txt']\n",
    "    for i in range(0,n):        \n",
    "        print(i, deps)         \n",
    "        fu, deps = incr(inputs=deps, outputs=['incr.{0}.txt'.format(i)])\n",
    "        d[i] = {'App_fu' : fu, 'Data_fu' : deps}\n",
    "    return d\n",
    "\n",
    "\n",
    "foo = pipeline_n (5)\n",
    "print(foo)"
   ]
  },
  {
   "cell_type": "code",
   "execution_count": null,
   "metadata": {
    "collapsed": false
   },
   "outputs": [],
   "source": [
    "for key in sorted(foo.keys()):\n",
    "    print (key, foo[key]['Data_fu'][0].filepath, open(foo[key]['Data_fu'][0].filepath,'r').read())"
   ]
  },
  {
   "cell_type": "code",
   "execution_count": null,
   "metadata": {
    "collapsed": false
   },
   "outputs": [],
   "source": [
    "'''  MapReduce\n",
    "        foo   foo ... foo\n",
    "          \\    |      /\n",
    "           \\   |     /\n",
    "             merge\n",
    "''' \n",
    "\n",
    "\n",
    "def map_n_reduce(n, dfk):\n",
    "    map_stage = []\n",
    "    for i in range(0,n):\n",
    "        fu, outs = echo_to_file(inputs=[str(i)], outputs=['map.{0}.txt'.format(i)])\n",
    "        map_stage.extend(outs)        \n",
    "    \n",
    "    red = echo_to_file(inputs=map_stage, outputs=['reduced.txt'])    \n",
    "    return map_stage, red\n",
    "\n",
    "m,r = map_n_reduce(3, dfk)"
   ]
  },
  {
   "cell_type": "code",
   "execution_count": null,
   "metadata": {
    "collapsed": false
   },
   "outputs": [],
   "source": [
    "print(m, r)\n",
    "\n",
    "r[1][0].result()"
   ]
  },
  {
   "cell_type": "code",
   "execution_count": null,
   "metadata": {
    "collapsed": false
   },
   "outputs": [],
   "source": [
    "print(open('reduced.txt', 'r').read())"
   ]
  },
  {
   "cell_type": "code",
   "execution_count": 2,
   "metadata": {
    "collapsed": false
   },
   "outputs": [
    {
     "name": "stderr",
     "output_type": "stream",
     "text": [
      "2017-02-17 19:16:59,595 parsl.app.app [DEBUG] Apptype : python\n",
      "2017-02-17 19:16:59,596 parsl.app.app [DEBUG] Executor : <class 'parsl.dataflow.dflow.DataFlowKernel'>\n",
      "2017-02-17 19:16:59,597 parsl.app.app [DEBUG] Decorator Exec : <function foo at 0x7f5f646899d8>\n",
      "2017-02-17 19:16:59,597 parsl.app.app [DEBUG] __init__ \n"
     ]
    }
   ],
   "source": [
    "@App('python', dfk)\n",
    "def foo(x):\n",
    "    return x*3"
   ]
  },
  {
   "cell_type": "code",
   "execution_count": 4,
   "metadata": {
    "collapsed": false
   },
   "outputs": [
    {
     "name": "stderr",
     "output_type": "stream",
     "text": [
      "2017-02-17 19:17:17,649 parsl.app.app [DEBUG] In __Call__\n",
      "2017-02-17 19:17:17,650 parsl.app.app [DEBUG] Submitting via : <parsl.dataflow.dflow.DataFlowKernel object at 0x7f5f64ecef98>\n",
      "2017-02-17 19:17:17,723 parsl.app.app [DEBUG] Exec   : functools.partial(<function foo at 0x7f5f646899d8>, 5)\n",
      "2017-02-17 19:17:17,723 parsl.dataflow.dflow [DEBUG] Task:8669c4b2-98bf-4db2-9ca8-dd0ca2bbfb35   dep_cnt:0  deps:[]\n",
      "2017-02-17 19:17:17,724 parsl.dataflow.dflow [DEBUG] Submitting to executor : 8669c4b2-98bf-4db2-9ca8-dd0ca2bbfb35\n",
      "2017-02-17 19:17:17,725 parsl.dataflow.dflow [DEBUG] Completed : 8669c4b2-98bf-4db2-9ca8-dd0ca2bbfb35 with <Future at 0x7f5f64ef71d0 state=finished returned int>\n",
      "2017-02-17 19:17:17,726 parsl.dataflow.dflow [DEBUG] Pending:0   Runnable:1   Done:2\n",
      "2017-02-17 19:17:17,726 parsl.dataflow.dflow [DEBUG] Launched : 8669c4b2-98bf-4db2-9ca8-dd0ca2bbfb35 with <AppFuture at 0x7f5f6467e320 state=finished returned int>\n",
      "2017-02-17 19:17:17,727 parsl.dataflow.futures [DEBUG] Waiting on result of 140047683150624 on 140047692034512\n"
     ]
    },
    {
     "name": "stdout",
     "output_type": "stream",
     "text": [
      "15\n"
     ]
    }
   ],
   "source": [
    "x = foo(5)\n",
    "print(x[0].result())"
   ]
  }
 ],
 "metadata": {
  "kernelspec": {
   "display_name": "Python 3",
   "language": "python",
   "name": "python3"
  },
  "language_info": {
   "codemirror_mode": {
    "name": "ipython",
    "version": 3
   },
   "file_extension": ".py",
   "mimetype": "text/x-python",
   "name": "python",
   "nbconvert_exporter": "python",
   "pygments_lexer": "ipython3",
   "version": "3.5.2"
  }
 },
 "nbformat": 4,
 "nbformat_minor": 2
}
