{
 "cells": [
  {
   "cell_type": "markdown",
   "metadata": {},
   "source": [
    "## Parsl Test/Demo with the @App decorators.\n",
    "\n",
    "We outline a simple set of workflow patterns and show how they can be implemented with the @App decorators.\n",
    "Here are the workflows :\n",
    "\n",
    "1. Single apps.\n",
    "2. N apps launched in parallel\n",
    "3. N apps launched in sequence such that the i'th task depends solely on the i-1'th.\n",
    "4. N sequences launched in parallel.\n"
   ]
  },
  {
   "cell_type": "code",
   "execution_count": 12,
   "metadata": {
    "collapsed": false
   },
   "outputs": [
    {
     "name": "stderr",
     "output_type": "stream",
     "text": [
      "2017-02-16 20:00:51,837 parsl.app.app [DEBUG] Apptype : bash\n",
      "2017-02-16 20:00:51,837 parsl.app.app [DEBUG] Apptype : bash\n",
      "2017-02-16 20:00:51,922 parsl.app.app [DEBUG] Executor : <class 'parsl.dataflow.dflow.DataFlowKernel'>\n",
      "2017-02-16 20:00:51,922 parsl.app.app [DEBUG] Executor : <class 'parsl.dataflow.dflow.DataFlowKernel'>\n",
      "2017-02-16 20:00:51,923 parsl.app.app [DEBUG] Decorator Exec : <function echo at 0x7f13980dfd08>\n",
      "2017-02-16 20:00:51,923 parsl.app.app [DEBUG] Decorator Exec : <function echo at 0x7f13980dfd08>\n",
      "2017-02-16 20:00:51,925 parsl.app.app [DEBUG] __init__ \n",
      "2017-02-16 20:00:51,925 parsl.app.app [DEBUG] __init__ \n",
      "2017-02-16 20:00:51,926 parsl.app.app [DEBUG] Apptype : bash\n",
      "2017-02-16 20:00:51,926 parsl.app.app [DEBUG] Apptype : bash\n",
      "2017-02-16 20:00:51,927 parsl.app.app [DEBUG] Executor : <class 'parsl.dataflow.dflow.DataFlowKernel'>\n",
      "2017-02-16 20:00:51,927 parsl.app.app [DEBUG] Executor : <class 'parsl.dataflow.dflow.DataFlowKernel'>\n",
      "2017-02-16 20:00:51,929 parsl.app.app [DEBUG] Decorator Exec : <function echo_to_file at 0x7f13980592f0>\n",
      "2017-02-16 20:00:51,929 parsl.app.app [DEBUG] Decorator Exec : <function echo_to_file at 0x7f13980592f0>\n",
      "2017-02-16 20:00:51,930 parsl.app.app [DEBUG] __init__ \n",
      "2017-02-16 20:00:51,930 parsl.app.app [DEBUG] __init__ \n",
      "2017-02-16 20:00:51,931 parsl.app.app [DEBUG] Apptype : bash\n",
      "2017-02-16 20:00:51,931 parsl.app.app [DEBUG] Apptype : bash\n",
      "2017-02-16 20:00:51,933 parsl.app.app [DEBUG] Executor : <class 'parsl.dataflow.dflow.DataFlowKernel'>\n",
      "2017-02-16 20:00:51,933 parsl.app.app [DEBUG] Executor : <class 'parsl.dataflow.dflow.DataFlowKernel'>\n",
      "2017-02-16 20:00:51,934 parsl.app.app [DEBUG] Decorator Exec : <function sleep_n at 0x7f1398059730>\n",
      "2017-02-16 20:00:51,934 parsl.app.app [DEBUG] Decorator Exec : <function sleep_n at 0x7f1398059730>\n",
      "2017-02-16 20:00:51,935 parsl.app.app [DEBUG] __init__ \n",
      "2017-02-16 20:00:51,935 parsl.app.app [DEBUG] __init__ \n",
      "2017-02-16 20:00:51,936 parsl.app.app [DEBUG] Apptype : bash\n",
      "2017-02-16 20:00:51,936 parsl.app.app [DEBUG] Apptype : bash\n",
      "2017-02-16 20:00:51,937 parsl.app.app [DEBUG] Executor : <class 'parsl.dataflow.dflow.DataFlowKernel'>\n",
      "2017-02-16 20:00:51,937 parsl.app.app [DEBUG] Executor : <class 'parsl.dataflow.dflow.DataFlowKernel'>\n",
      "2017-02-16 20:00:51,938 parsl.app.app [DEBUG] Decorator Exec : <function cats_n_sleep at 0x7f1398059b70>\n",
      "2017-02-16 20:00:51,938 parsl.app.app [DEBUG] Decorator Exec : <function cats_n_sleep at 0x7f1398059b70>\n",
      "2017-02-16 20:00:51,940 parsl.app.app [DEBUG] __init__ \n",
      "2017-02-16 20:00:51,940 parsl.app.app [DEBUG] __init__ \n",
      "2017-02-16 20:00:51,941 parsl.app.app [DEBUG] Apptype : bash\n",
      "2017-02-16 20:00:51,941 parsl.app.app [DEBUG] Apptype : bash\n",
      "2017-02-16 20:00:51,942 parsl.app.app [DEBUG] Executor : <class 'parsl.dataflow.dflow.DataFlowKernel'>\n",
      "2017-02-16 20:00:51,942 parsl.app.app [DEBUG] Executor : <class 'parsl.dataflow.dflow.DataFlowKernel'>\n",
      "2017-02-16 20:00:51,943 parsl.app.app [DEBUG] Decorator Exec : <function incr at 0x7f1398058c80>\n",
      "2017-02-16 20:00:51,943 parsl.app.app [DEBUG] Decorator Exec : <function incr at 0x7f1398058c80>\n",
      "2017-02-16 20:00:51,945 parsl.app.app [DEBUG] __init__ \n",
      "2017-02-16 20:00:51,945 parsl.app.app [DEBUG] __init__ \n"
     ]
    }
   ],
   "source": [
    "import time\n",
    "import random\n",
    "from parsl import *\n",
    "import parsl\n",
    "from functools import partial\n",
    "parsl.set_stream_logger()\n",
    "\n",
    "# Here we specify the \n",
    "workers = ThreadPoolExecutor(max_workers=4)\n",
    "#workers = ProcessPoolExecutor(max_workers=4)\n",
    "dfk = DataFlowKernel(workers)\n",
    "\n",
    "\n",
    "@App('bash', dfk)\n",
    "def echo(inputs=[], stderr='std.err', stdout='std.out'):        \n",
    "    cmd_line = 'echo {inputs[0]} {inputs[1]}'\n",
    "\n",
    "@App('bash', dfk)\n",
    "def echo_to_file(x=1, outputs=[], stderr='std.err', stdout='std.out'):        \n",
    "    cmd_line = 'echo {x}} > {outputs[0]}'\n",
    "    \n",
    "\n",
    "@App('bash', dfk)\n",
    "def sleep_n(t):\n",
    "    cmd_line = 'sleep {t}'    \n",
    "\n",
    "@App('bash', dfk)\n",
    "def cats_n_sleep (x, inputs, outputs):\n",
    "    cmd_line = 'sleep $(($RANDOM % {x})); cat {inputs[0]} > {outputs[0]}'\n",
    "    \n",
    "@App('bash', dfk)\n",
    "def incr (inputs, outputs):\n",
    "    cmd_line = 'y=$(cat {inputs[0]}); echo $(($y+1)) > {outputs[0]}'\n",
    "    "
   ]
  },
  {
   "cell_type": "code",
   "execution_count": null,
   "metadata": {
    "collapsed": false
   },
   "outputs": [],
   "source": [
    "fu, outs = echo(inputs=[\"Hello\", \"World!\"], stdout='std.out', stderr='std.err')"
   ]
  },
  {
   "cell_type": "code",
   "execution_count": null,
   "metadata": {
    "collapsed": false
   },
   "outputs": [],
   "source": [
    "#fu, outs = echo(inputs=[\"Hello\", \"World\"])\n",
    "print(fu, outs)"
   ]
  },
  {
   "cell_type": "code",
   "execution_count": null,
   "metadata": {
    "collapsed": false
   },
   "outputs": [],
   "source": [
    "with open('test.txt', 'w') as tmp:\n",
    "    tmp.write(\"E=mc^2\")\n",
    "    \n",
    "f, outs = cats_n_sleep (x=5,inputs=['test.txt'],outputs=['out.txt'])"
   ]
  },
  {
   "cell_type": "code",
   "execution_count": null,
   "metadata": {
    "collapsed": false
   },
   "outputs": [],
   "source": [
    "print(f,outs)\n",
    "print(\"Duration      : \", f.result())\n",
    "print(\"Output        : \", outs[0].result())\n",
    "print(\"Output done ? : \", outs[0].done())"
   ]
  },
  {
   "cell_type": "code",
   "execution_count": null,
   "metadata": {
    "collapsed": false
   },
   "outputs": [],
   "source": [
    "%%time\n",
    "import os\n",
    "import shutil\n",
    "shutil.rmtree('./outputs') ; os.mkdir('./outputs')\n",
    "''' This tests the first pattern, a parallel for loop.\n",
    "\n",
    "Pool          |     Width      |     Duration\n",
    "Process       |     10K        |       2.96s\n",
    "Process       |      1K        |       311ms\n",
    "Process       |    100K        |       29.6s\n",
    "'''\n",
    "\n",
    "def launch_n (n):\n",
    "    d = {}    \n",
    "    for i in range(0,n):        \n",
    "        d[i] = cats_n_sleep(x=4, inputs=['test.txt'], outputs=['outputs/out.{0}.txt'.format(i)])\n",
    "    return d\n",
    "\n",
    "x = launch_n(4)\n",
    "time.sleep(8)\n",
    "os.listdir('.')"
   ]
  },
  {
   "cell_type": "code",
   "execution_count": null,
   "metadata": {
    "collapsed": false
   },
   "outputs": [],
   "source": [
    "print([x[i][1][0].filepath for i in x])\n",
    "os.listdir('outputs/')"
   ]
  },
  {
   "cell_type": "code",
   "execution_count": 10,
   "metadata": {
    "collapsed": false
   },
   "outputs": [
    {
     "name": "stderr",
     "output_type": "stream",
     "text": [
      "2017-02-16 19:51:56,245 parsl.app.app [DEBUG] In __Call__\n",
      "2017-02-16 19:51:56,245 parsl.app.app [DEBUG] Received : ['start.txt'] \n",
      "2017-02-16 19:51:56,322 parsl.app.app [DEBUG] Submitting via : <parsl.dataflow.dflow.DataFlowKernel object at 0x7f13980c1a58>\n",
      "2017-02-16 19:51:56,323 parsl.app.app [DEBUG] cmd    : y=$(cat {inputs[0]}); echo $(($y+1)) > {outputs[0]}\n",
      "2017-02-16 19:51:56,323 parsl.app.app [DEBUG] Exec   : y=$(cat start.txt); echo $(($y+1)) > incr.0.txt\n",
      "2017-02-16 19:51:56,324 parsl.dataflow.dflow [DEBUG] Task:88266f9f-1795-4f30-bdf3-bc82b2d3e96a   dep_cnt:0  deps:[]\n",
      "2017-02-16 19:51:56,325 parsl.dataflow.dflow [DEBUG] Submitting to executor : 88266f9f-1795-4f30-bdf3-bc82b2d3e96a\n",
      "2017-02-16 19:51:56,325 parsl.dataflow.dflow [DEBUG] Launched : 88266f9f-1795-4f30-bdf3-bc82b2d3e96a with <AppFuture at 0x7f1398056978 state=pending>\n",
      "2017-02-16 19:51:56,326 parsl.app.app [DEBUG] Running app : bash\n",
      "2017-02-16 19:51:56,326 parsl.app.futures [DEBUG] Filepath : /home/yadu/swython/incr.0.txt\n",
      "2017-02-16 19:51:56,328 parsl.app.app [DEBUG] Launching app : y=$(cat start.txt); echo $(($y+1)) > incr.0.txt\n",
      "2017-02-16 19:51:56,329 parsl.app.app [DEBUG] In __Call__\n",
      "2017-02-16 19:51:56,332 parsl.app.app [DEBUG] Received : [<DataFuture at 0x7f1398056a90 state=pending>] \n",
      "2017-02-16 19:51:56,333 parsl.app.app [DEBUG] Submitting via : <parsl.dataflow.dflow.DataFlowKernel object at 0x7f13980c1a58>\n",
      "2017-02-16 19:51:56,333 parsl.app.app [DEBUG] cmd    : y=$(cat {inputs[0]}); echo $(($y+1)) > {outputs[0]}\n",
      "2017-02-16 19:51:56,334 parsl.app.app [DEBUG] RunCommand Completed y=$(cat start.txt); echo $(($y+1)) > incr.0.txt\n",
      "2017-02-16 19:51:56,334 parsl.app.app [DEBUG] Exec   : y=$(cat /home/yadu/swython/incr.0.txt); echo $(($y+1)) > incr.1.txt\n",
      "2017-02-16 19:51:56,335 parsl.dataflow.dflow [DEBUG] Completed : 88266f9f-1795-4f30-bdf3-bc82b2d3e96a with <Future at 0x7f139804f278 state=finished returned float>\n",
      "2017-02-16 19:51:56,336 parsl.dataflow.dflow [DEBUG] Task:773deff1-6c8f-49fa-a901-a43c1a9250c3   dep_cnt:0  deps:[<DataFuture at 0x7f1398056a90 state=pending>]\n",
      "2017-02-16 19:51:56,337 parsl.dataflow.dflow [DEBUG] Pending:0   Runnable:0   Done:8\n",
      "2017-02-16 19:51:56,338 parsl.dataflow.dflow [DEBUG] Submitting to executor : 773deff1-6c8f-49fa-a901-a43c1a9250c3\n",
      "2017-02-16 19:51:56,339 parsl.dataflow.dflow [DEBUG] Launched : 773deff1-6c8f-49fa-a901-a43c1a9250c3 with <AppFuture at 0x7f13980b5748 state=pending>\n",
      "2017-02-16 19:51:56,340 parsl.app.app [DEBUG] Running app : bash\n",
      "2017-02-16 19:51:56,340 parsl.app.futures [DEBUG] Filepath : /home/yadu/swython/incr.1.txt\n",
      "2017-02-16 19:51:56,342 parsl.app.app [DEBUG] Launching app : y=$(cat /home/yadu/swython/incr.0.txt); echo $(($y+1)) > incr.1.txt\n",
      "2017-02-16 19:51:56,343 parsl.app.app [DEBUG] In __Call__\n",
      "2017-02-16 19:51:56,346 parsl.app.app [DEBUG] Received : [<DataFuture at 0x7f13980b5518 state=pending>] \n",
      "2017-02-16 19:51:56,346 parsl.app.app [DEBUG] Submitting via : <parsl.dataflow.dflow.DataFlowKernel object at 0x7f13980c1a58>\n",
      "2017-02-16 19:51:56,347 parsl.app.app [DEBUG] RunCommand Completed y=$(cat /home/yadu/swython/incr.0.txt); echo $(($y+1)) > incr.1.txt\n",
      "2017-02-16 19:51:56,347 parsl.app.app [DEBUG] cmd    : y=$(cat {inputs[0]}); echo $(($y+1)) > {outputs[0]}\n",
      "2017-02-16 19:51:56,348 parsl.dataflow.dflow [DEBUG] Completed : 773deff1-6c8f-49fa-a901-a43c1a9250c3 with <Future at 0x7f139804f2e8 state=finished returned float>\n",
      "2017-02-16 19:51:56,349 parsl.app.app [DEBUG] Exec   : y=$(cat /home/yadu/swython/incr.1.txt); echo $(($y+1)) > incr.2.txt\n",
      "2017-02-16 19:51:56,350 parsl.dataflow.dflow [DEBUG] Pending:0   Runnable:0   Done:9\n",
      "2017-02-16 19:51:56,351 parsl.dataflow.dflow [DEBUG] Task:c03a3cb9-5c41-401a-8f94-67315a8599f8   dep_cnt:0  deps:[<DataFuture at 0x7f13980b5518 state=pending>]\n",
      "2017-02-16 19:51:56,352 parsl.dataflow.dflow [DEBUG] Submitting to executor : c03a3cb9-5c41-401a-8f94-67315a8599f8\n",
      "2017-02-16 19:51:56,353 parsl.dataflow.dflow [DEBUG] Launched : c03a3cb9-5c41-401a-8f94-67315a8599f8 with <AppFuture at 0x7f1398937198 state=pending>\n",
      "2017-02-16 19:51:56,353 parsl.app.app [DEBUG] Running app : bash\n",
      "2017-02-16 19:51:56,354 parsl.app.futures [DEBUG] Filepath : /home/yadu/swython/incr.2.txt\n",
      "2017-02-16 19:51:56,355 parsl.app.app [DEBUG] Launching app : y=$(cat /home/yadu/swython/incr.1.txt); echo $(($y+1)) > incr.2.txt\n",
      "2017-02-16 19:51:56,356 parsl.app.app [DEBUG] In __Call__\n",
      "2017-02-16 19:51:56,359 parsl.app.app [DEBUG] Received : [<DataFuture at 0x7f13980c1240 state=pending>] \n",
      "2017-02-16 19:51:56,360 parsl.app.app [DEBUG] Submitting via : <parsl.dataflow.dflow.DataFlowKernel object at 0x7f13980c1a58>\n",
      "2017-02-16 19:51:56,360 parsl.app.app [DEBUG] RunCommand Completed y=$(cat /home/yadu/swython/incr.1.txt); echo $(($y+1)) > incr.2.txt\n",
      "2017-02-16 19:51:56,361 parsl.app.app [DEBUG] cmd    : y=$(cat {inputs[0]}); echo $(($y+1)) > {outputs[0]}\n",
      "2017-02-16 19:51:56,361 parsl.dataflow.dflow [DEBUG] Completed : c03a3cb9-5c41-401a-8f94-67315a8599f8 with <Future at 0x7f1398936748 state=finished returned float>\n",
      "2017-02-16 19:51:56,362 parsl.app.app [DEBUG] Exec   : y=$(cat /home/yadu/swython/incr.2.txt); echo $(($y+1)) > incr.3.txt\n",
      "2017-02-16 19:51:56,363 parsl.dataflow.dflow [DEBUG] Pending:0   Runnable:0   Done:10\n",
      "2017-02-16 19:51:56,364 parsl.dataflow.dflow [DEBUG] Task:141be3e8-8133-4f60-9588-6f6fb66819f2   dep_cnt:0  deps:[<DataFuture at 0x7f13980c1240 state=pending>]\n",
      "2017-02-16 19:51:56,365 parsl.dataflow.dflow [DEBUG] Submitting to executor : 141be3e8-8133-4f60-9588-6f6fb66819f2\n",
      "2017-02-16 19:51:56,366 parsl.dataflow.dflow [DEBUG] Launched : 141be3e8-8133-4f60-9588-6f6fb66819f2 with <AppFuture at 0x7f13980c11d0 state=pending>\n",
      "2017-02-16 19:51:56,366 parsl.app.app [DEBUG] Running app : bash\n",
      "2017-02-16 19:51:56,367 parsl.app.futures [DEBUG] Filepath : /home/yadu/swython/incr.3.txt\n",
      "2017-02-16 19:51:56,368 parsl.app.app [DEBUG] Launching app : y=$(cat /home/yadu/swython/incr.2.txt); echo $(($y+1)) > incr.3.txt\n",
      "2017-02-16 19:51:56,369 parsl.app.app [DEBUG] In __Call__\n",
      "2017-02-16 19:51:56,372 parsl.app.app [DEBUG] Received : [<DataFuture at 0x7f13980c1748 state=pending>] \n",
      "2017-02-16 19:51:56,373 parsl.app.app [DEBUG] RunCommand Completed y=$(cat /home/yadu/swython/incr.2.txt); echo $(($y+1)) > incr.3.txt\n",
      "2017-02-16 19:51:56,373 parsl.app.app [DEBUG] Submitting via : <parsl.dataflow.dflow.DataFlowKernel object at 0x7f13980c1a58>\n",
      "2017-02-16 19:51:56,374 parsl.dataflow.dflow [DEBUG] Completed : 141be3e8-8133-4f60-9588-6f6fb66819f2 with <Future at 0x7f13980b5fd0 state=finished returned float>\n",
      "2017-02-16 19:51:56,374 parsl.app.app [DEBUG] cmd    : y=$(cat {inputs[0]}); echo $(($y+1)) > {outputs[0]}\n",
      "2017-02-16 19:51:56,375 parsl.dataflow.dflow [DEBUG] Pending:0   Runnable:0   Done:11\n",
      "2017-02-16 19:51:56,376 parsl.app.app [DEBUG] Exec   : y=$(cat /home/yadu/swython/incr.3.txt); echo $(($y+1)) > incr.4.txt\n",
      "2017-02-16 19:51:56,378 parsl.dataflow.dflow [DEBUG] Task:8557a994-b518-4f77-b5ce-6be0a1f61a99   dep_cnt:0  deps:[<DataFuture at 0x7f13980c1748 state=pending>]\n",
      "2017-02-16 19:51:56,378 parsl.dataflow.dflow [DEBUG] Submitting to executor : 8557a994-b518-4f77-b5ce-6be0a1f61a99\n",
      "2017-02-16 19:51:56,379 parsl.dataflow.dflow [DEBUG] Launched : 8557a994-b518-4f77-b5ce-6be0a1f61a99 with <AppFuture at 0x7f13980c1080 state=pending>\n",
      "2017-02-16 19:51:56,379 parsl.app.app [DEBUG] Running app : bash\n",
      "2017-02-16 19:51:56,380 parsl.app.futures [DEBUG] Filepath : /home/yadu/swython/incr.4.txt\n"
     ]
    },
    {
     "name": "stdout",
     "output_type": "stream",
     "text": [
      "0 ['start.txt']\n",
      "1 [<DataFuture at 0x7f1398056a90 state=pending>]\n",
      "2 [<DataFuture at 0x7f13980b5518 state=pending>]\n",
      "3 [<DataFuture at 0x7f13980c1240 state=pending>]\n",
      "4 [<DataFuture at 0x7f13980c1748 state=pending>]\n",
      "{0: {'App_fu': <AppFuture at 0x7f1398056978 state=finished returned float>, 'Data_fu': [<DataFuture at 0x7f1398056a90 state=pending>]}, 1: {'App_fu': <AppFuture at 0x7f13980b5748 state=finished returned float>, 'Data_fu': [<DataFuture at 0x7f13980b5518 state=pending>]}, 2: {'App_fu': <AppFuture at 0x7f1398937198 state=finished returned float>, 'Data_fu': [<DataFuture at 0x7f13980c1240 state=pending>]}, 3: {'App_fu': <AppFuture at 0x7f13980c11d0 state=finished returned float>, 'Data_fu': [<DataFuture at 0x7f13980c1748 state=pending>]}, 4: {'App_fu': <AppFuture at 0x7f13980c1080 state=running>, 'Data_fu': [<DataFuture at 0x7f13980c16a0 state=pending>]}}\n",
      "CPU times: user 52 ms, sys: 24 ms, total: 76 ms\n",
      "Wall time: 137 ms\n"
     ]
    },
    {
     "name": "stderr",
     "output_type": "stream",
     "text": [
      "2017-02-16 19:51:56,381 parsl.app.app [DEBUG] Launching app : y=$(cat /home/yadu/swython/incr.3.txt); echo $(($y+1)) > incr.4.txt\n",
      "2017-02-16 19:51:56,387 parsl.app.app [DEBUG] RunCommand Completed y=$(cat /home/yadu/swython/incr.3.txt); echo $(($y+1)) > incr.4.txt\n",
      "2017-02-16 19:51:56,388 parsl.dataflow.dflow [DEBUG] Completed : 8557a994-b518-4f77-b5ce-6be0a1f61a99 with <Future at 0x7f13980c10b8 state=finished returned float>\n",
      "2017-02-16 19:51:56,388 parsl.dataflow.dflow [DEBUG] Pending:0   Runnable:0   Done:12\n"
     ]
    }
   ],
   "source": [
    "%%time\n",
    "''' Testing Pipeline, a sequence of dependencies.\n",
    "\n",
    "A -> B ... -> N\n",
    "\n",
    "'''\n",
    "open('start.txt', 'w').write('0');\n",
    "\n",
    "def pipeline_n (n):\n",
    "    d    = {}\n",
    "    deps = ['start.txt']\n",
    "    for i in range(0,n):        \n",
    "        print(i, deps)         \n",
    "        fu, deps = incr(inputs=deps, outputs=['incr.{0}.txt'.format(i)])\n",
    "        d[i] = {'App_fu' : fu, 'Data_fu' : deps}\n",
    "    return d\n",
    "\n",
    "\n",
    "foo = pipeline_n (5)\n",
    "print(foo)"
   ]
  },
  {
   "cell_type": "code",
   "execution_count": 11,
   "metadata": {
    "collapsed": false
   },
   "outputs": [
    {
     "name": "stdout",
     "output_type": "stream",
     "text": [
      "0 /home/yadu/swython/incr.0.txt 1\n",
      "\n",
      "1 /home/yadu/swython/incr.1.txt 2\n",
      "\n",
      "2 /home/yadu/swython/incr.2.txt 3\n",
      "\n",
      "3 /home/yadu/swython/incr.3.txt 4\n",
      "\n",
      "4 /home/yadu/swython/incr.4.txt 5\n",
      "\n"
     ]
    }
   ],
   "source": [
    "for key in sorted(foo.keys()):\n",
    "    print (key, foo[key]['Data_fu'][0].filepath, open(foo[key]['Data_fu'][0].filepath,'r').read())"
   ]
  },
  {
   "cell_type": "code",
   "execution_count": 15,
   "metadata": {
    "collapsed": false
   },
   "outputs": [
    {
     "name": "stderr",
     "output_type": "stream",
     "text": [
      "2017-02-16 20:38:16,033 parsl.app.app [DEBUG] In __Call__\n",
      "2017-02-16 20:38:16,033 parsl.app.app [DEBUG] In __Call__\n"
     ]
    },
    {
     "ename": "KeyError",
     "evalue": "'inputs'",
     "output_type": "error",
     "traceback": [
      "\u001b[0;31m---------------------------------------------------------------------------\u001b[0m",
      "\u001b[0;31mKeyError\u001b[0m                                  Traceback (most recent call last)",
      "\u001b[0;32m<ipython-input-15-ebbf89ad8052>\u001b[0m in \u001b[0;36m<module>\u001b[0;34m()\u001b[0m\n\u001b[1;32m     17\u001b[0m     \u001b[0;32mreturn\u001b[0m \u001b[0mmap_stage\u001b[0m\u001b[0;34m,\u001b[0m \u001b[0mred\u001b[0m\u001b[0;34m\u001b[0m\u001b[0m\n\u001b[1;32m     18\u001b[0m \u001b[0;34m\u001b[0m\u001b[0m\n\u001b[0;32m---> 19\u001b[0;31m \u001b[0mm\u001b[0m\u001b[0;34m,\u001b[0m\u001b[0mr\u001b[0m \u001b[0;34m=\u001b[0m \u001b[0mmap_n_reduce\u001b[0m\u001b[0;34m(\u001b[0m\u001b[0;36m1\u001b[0m\u001b[0;34m,\u001b[0m \u001b[0mdfk\u001b[0m\u001b[0;34m)\u001b[0m\u001b[0;34m\u001b[0m\u001b[0m\n\u001b[0m",
      "\u001b[0;32m<ipython-input-15-ebbf89ad8052>\u001b[0m in \u001b[0;36mmap_n_reduce\u001b[0;34m(n, dfk)\u001b[0m\n\u001b[1;32m     10\u001b[0m     \u001b[0mmap_stage\u001b[0m \u001b[0;34m=\u001b[0m \u001b[0;34m[\u001b[0m\u001b[0;34m]\u001b[0m\u001b[0;34m\u001b[0m\u001b[0m\n\u001b[1;32m     11\u001b[0m     \u001b[0;32mfor\u001b[0m \u001b[0mi\u001b[0m \u001b[0;32min\u001b[0m \u001b[0mrange\u001b[0m\u001b[0;34m(\u001b[0m\u001b[0;36m0\u001b[0m\u001b[0;34m,\u001b[0m\u001b[0mn\u001b[0m\u001b[0;34m)\u001b[0m\u001b[0;34m:\u001b[0m\u001b[0;34m\u001b[0m\u001b[0m\n\u001b[0;32m---> 12\u001b[0;31m         \u001b[0m_\u001b[0m\u001b[0;34m,\u001b[0m \u001b[0mouts\u001b[0m \u001b[0;34m=\u001b[0m \u001b[0mecho_to_file\u001b[0m\u001b[0;34m(\u001b[0m\u001b[0mx\u001b[0m\u001b[0;34m=\u001b[0m\u001b[0mi\u001b[0m\u001b[0;34m,\u001b[0m \u001b[0moutputs\u001b[0m\u001b[0;34m=\u001b[0m\u001b[0;34m[\u001b[0m\u001b[0;34m'map.{0}.txt'\u001b[0m\u001b[0;34m.\u001b[0m\u001b[0mformat\u001b[0m\u001b[0;34m(\u001b[0m\u001b[0mi\u001b[0m\u001b[0;34m)\u001b[0m\u001b[0;34m]\u001b[0m\u001b[0;34m)\u001b[0m\u001b[0;34m\u001b[0m\u001b[0m\n\u001b[0m\u001b[1;32m     13\u001b[0m         \u001b[0mmap_stage\u001b[0m\u001b[0;34m.\u001b[0m\u001b[0mappend\u001b[0m\u001b[0;34m(\u001b[0m\u001b[0mouts\u001b[0m\u001b[0;34m)\u001b[0m\u001b[0;34m\u001b[0m\u001b[0m\n\u001b[1;32m     14\u001b[0m \u001b[0;34m\u001b[0m\u001b[0m\n",
      "\u001b[0;32m/home/yadu/swython/parsl/app/app.py\u001b[0m in \u001b[0;36m__call__\u001b[0;34m(self, *args, **kwargs)\u001b[0m\n\u001b[1;32m     64\u001b[0m \u001b[0;34m\u001b[0m\u001b[0m\n\u001b[1;32m     65\u001b[0m         \u001b[0;31m# Identify the futures in the inputs\u001b[0m\u001b[0;34m\u001b[0m\u001b[0;34m\u001b[0m\u001b[0m\n\u001b[0;32m---> 66\u001b[0;31m         \u001b[0mlogger\u001b[0m\u001b[0;34m.\u001b[0m\u001b[0mdebug\u001b[0m\u001b[0;34m(\u001b[0m\u001b[0;34m\"Received : %s \"\u001b[0m\u001b[0;34m,\u001b[0m \u001b[0mkwargs\u001b[0m\u001b[0;34m[\u001b[0m\u001b[0;34m'inputs'\u001b[0m\u001b[0;34m]\u001b[0m\u001b[0;34m)\u001b[0m\u001b[0;34m\u001b[0m\u001b[0m\n\u001b[0m\u001b[1;32m     67\u001b[0m \u001b[0;34m\u001b[0m\u001b[0m\n\u001b[1;32m     68\u001b[0m         input_deps = [item for item in kwargs['inputs']\n",
      "\u001b[0;31mKeyError\u001b[0m: 'inputs'"
     ]
    }
   ],
   "source": [
    "'''  MapReduce\n",
    "        foo   foo ... foo\n",
    "          \\    |      /\n",
    "           \\   |     /\n",
    "             merge\n",
    "''' \n",
    "\n",
    "\n",
    "def map_n_reduce(n, dfk):\n",
    "    map_stage = []\n",
    "    for i in range(0,n):\n",
    "        _, outs = echo_to_file(x=i, outputs=['map.{0}.txt'.format(i)])\n",
    "        map_stage.append(outs)        \n",
    "    \n",
    "    #red = (partial(sleep_n, 1), map_stage, None)\n",
    "    red = None\n",
    "    return map_stage, red\n",
    "\n",
    "m,r = map_n_reduce(1, dfk)"
   ]
  },
  {
   "cell_type": "code",
   "execution_count": null,
   "metadata": {
    "collapsed": false
   },
   "outputs": [],
   "source": [
    "print(m, r)\n",
    "\n",
    "r.result()"
   ]
  }
 ],
 "metadata": {
  "kernelspec": {
   "display_name": "Python 3",
   "language": "python",
   "name": "python3"
  },
  "language_info": {
   "codemirror_mode": {
    "name": "ipython",
    "version": 3
   },
   "file_extension": ".py",
   "mimetype": "text/x-python",
   "name": "python",
   "nbconvert_exporter": "python",
   "pygments_lexer": "ipython3",
   "version": "3.5.2"
  }
 },
 "nbformat": 4,
 "nbformat_minor": 2
}
