{
 "cells": [
  {
   "cell_type": "markdown",
   "metadata": {},
   "source": [
    "## Parsl Test/Demo with the @App decorators.\n",
    "\n",
    "We outline a simple set of workflow patterns and show how they can be implemented with the @App decorators.\n",
    "Here are the workflows :\n",
    "\n",
    "1. Single apps.\n",
    "2. N apps launched in parallel\n",
    "3. N apps launched in sequence such that the i'th task depends solely on the i-1'th.\n",
    "4. N sequences launched in parallel.\n"
   ]
  },
  {
   "cell_type": "code",
   "execution_count": 1,
   "metadata": {
    "collapsed": false
   },
   "outputs": [
    {
     "name": "stderr",
     "output_type": "stream",
     "text": [
      "2017-02-17 18:28:25,155 parsl.app.app [DEBUG] Apptype : bash\n",
      "2017-02-17 18:28:25,222 parsl.app.app [DEBUG] Executor : <class 'parsl.dataflow.dflow.DataFlowKernel'>\n",
      "2017-02-17 18:28:25,223 parsl.app.app [DEBUG] Decorator Exec : <function echo at 0x7fe1422e2378>\n",
      "2017-02-17 18:28:25,224 parsl.app.app [DEBUG] __init__ \n",
      "2017-02-17 18:28:25,224 parsl.app.app [DEBUG] Apptype : bash\n",
      "2017-02-17 18:28:25,225 parsl.app.app [DEBUG] Executor : <class 'parsl.dataflow.dflow.DataFlowKernel'>\n",
      "2017-02-17 18:28:25,226 parsl.app.app [DEBUG] Decorator Exec : <function echo_to_file at 0x7fe1422e2620>\n",
      "2017-02-17 18:28:25,227 parsl.app.app [DEBUG] __init__ \n",
      "2017-02-17 18:28:25,227 parsl.app.app [DEBUG] Apptype : bash\n",
      "2017-02-17 18:28:25,228 parsl.app.app [DEBUG] Executor : <class 'parsl.dataflow.dflow.DataFlowKernel'>\n",
      "2017-02-17 18:28:25,229 parsl.app.app [DEBUG] Decorator Exec : <function sleep_n at 0x7fe1422e28c8>\n",
      "2017-02-17 18:28:25,229 parsl.app.app [DEBUG] __init__ \n",
      "2017-02-17 18:28:25,230 parsl.app.app [DEBUG] Apptype : bash\n",
      "2017-02-17 18:28:25,231 parsl.app.app [DEBUG] Executor : <class 'parsl.dataflow.dflow.DataFlowKernel'>\n",
      "2017-02-17 18:28:25,232 parsl.app.app [DEBUG] Decorator Exec : <function cats_n_sleep at 0x7fe1422e2b70>\n",
      "2017-02-17 18:28:25,232 parsl.app.app [DEBUG] __init__ \n",
      "2017-02-17 18:28:25,233 parsl.app.app [DEBUG] Apptype : bash\n",
      "2017-02-17 18:28:25,234 parsl.app.app [DEBUG] Executor : <class 'parsl.dataflow.dflow.DataFlowKernel'>\n",
      "2017-02-17 18:28:25,234 parsl.app.app [DEBUG] Decorator Exec : <function incr at 0x7fe1422e2e18>\n",
      "2017-02-17 18:28:25,235 parsl.app.app [DEBUG] __init__ \n"
     ]
    }
   ],
   "source": [
    "import time\n",
    "import random\n",
    "from parsl import *\n",
    "import parsl\n",
    "from functools import partial\n",
    "parsl.set_stream_logger()\n",
    "\n",
    "# Here we specify the \n",
    "workers = ThreadPoolExecutor(max_workers=4)\n",
    "#workers = ProcessPoolExecutor(max_workers=4)\n",
    "dfk = DataFlowKernel(workers)\n",
    "\n",
    "''' Here we define some basic bash apps.\n",
    "'''\n",
    "@App('bash', dfk)\n",
    "def echo(inputs=[], stderr='std.err', stdout='std.out'):        \n",
    "    cmd_line = 'echo {inputs[0]} {inputs[1]}'\n",
    "\n",
    "@App('bash', dfk)\n",
    "def echo_to_file(inputs=[], outputs=[], stderr='std.err', stdout='std.out'):        \n",
    "    cmd_line = 'echo {inputs} > {outputs[0]}'\n",
    "    \n",
    "@App('bash', dfk)\n",
    "def sleep_n(t):\n",
    "    cmd_line = 'sleep {t}'    \n",
    "\n",
    "@App('bash', dfk)\n",
    "def cats_n_sleep (x, inputs, outputs):\n",
    "    cmd_line = 'sleep $(($RANDOM % {x})); cat {inputs[0]} > {outputs[0]}'\n",
    "    \n",
    "@App('bash', dfk)\n",
    "def incr (inputs, outputs):\n",
    "    cmd_line = 'y=$(cat {inputs[0]}); echo $(($y+1)) > {outputs[0]}'\n",
    "    "
   ]
  },
  {
   "cell_type": "code",
   "execution_count": null,
   "metadata": {
    "collapsed": false
   },
   "outputs": [],
   "source": [
    "fu, outs = echo(inputs=[\"Hello\", \"World!\"], stdout='std.out', stderr='std.err')"
   ]
  },
  {
   "cell_type": "code",
   "execution_count": null,
   "metadata": {
    "collapsed": false
   },
   "outputs": [],
   "source": [
    "#fu, outs = echo(inputs=[\"Hello\", \"World\"])\n",
    "print(fu, outs)"
   ]
  },
  {
   "cell_type": "code",
   "execution_count": null,
   "metadata": {
    "collapsed": false
   },
   "outputs": [],
   "source": [
    "with open('test.txt', 'w') as tmp:\n",
    "    tmp.write(\"E=mc^2\")\n",
    "    \n",
    "f, outs = cats_n_sleep (x=5,inputs=['test.txt'],outputs=['out.txt'])"
   ]
  },
  {
   "cell_type": "code",
   "execution_count": null,
   "metadata": {
    "collapsed": false
   },
   "outputs": [],
   "source": [
    "print(f,outs)\n",
    "print(\"Duration      : \", f.result())\n",
    "print(\"Output        : \", outs[0].result())\n",
    "print(\"Output done ? : \", outs[0].done())"
   ]
  },
  {
   "cell_type": "code",
   "execution_count": null,
   "metadata": {
    "collapsed": false
   },
   "outputs": [],
   "source": [
    "%%time\n",
    "import os\n",
    "import shutil\n",
    "shutil.rmtree('./outputs') ; os.mkdir('./outputs')\n",
    "\n",
    "''' This tests the first pattern, a parallel for loop.\n",
    "\n",
    "Pool          |     Width      |     Duration\n",
    "Process       |     10K        |       2.96s\n",
    "Process       |      1K        |       311ms\n",
    "Process       |    100K        |       29.6s\n",
    "'''\n",
    "\n",
    "def launch_n (n):\n",
    "    d = {}    \n",
    "    for i in range(0,n):        \n",
    "        d[i] = cats_n_sleep(x=4, inputs=['test.txt'], outputs=['outputs/out.{0}.txt'.format(i)])\n",
    "    return d\n",
    "\n",
    "x = launch_n(4)\n",
    "os.listdir('outputs/')"
   ]
  },
  {
   "cell_type": "code",
   "execution_count": null,
   "metadata": {
    "collapsed": false
   },
   "outputs": [],
   "source": [
    "print([x[i][1][0].filepath for i in x])\n",
    "os.listdir('outputs/')"
   ]
  },
  {
   "cell_type": "code",
   "execution_count": null,
   "metadata": {
    "collapsed": false
   },
   "outputs": [],
   "source": [
    "%%time\n",
    "''' Testing Pipeline, a sequence of dependencies.\n",
    "\n",
    "A -> B ... -> N\n",
    "\n",
    "'''\n",
    "open('start.txt', 'w').write('0');\n",
    "\n",
    "def pipeline_n (n):\n",
    "    d    = {}\n",
    "    deps = ['start.txt']\n",
    "    for i in range(0,n):        \n",
    "        print(i, deps)         \n",
    "        fu, deps = incr(inputs=deps, outputs=['incr.{0}.txt'.format(i)])\n",
    "        d[i] = {'App_fu' : fu, 'Data_fu' : deps}\n",
    "    return d\n",
    "\n",
    "\n",
    "foo = pipeline_n (5)\n",
    "print(foo)"
   ]
  },
  {
   "cell_type": "code",
   "execution_count": null,
   "metadata": {
    "collapsed": false
   },
   "outputs": [],
   "source": [
    "for key in sorted(foo.keys()):\n",
    "    print (key, foo[key]['Data_fu'][0].filepath, open(foo[key]['Data_fu'][0].filepath,'r').read())"
   ]
  },
  {
   "cell_type": "code",
   "execution_count": 2,
   "metadata": {
    "collapsed": false
   },
   "outputs": [
    {
     "name": "stderr",
     "output_type": "stream",
     "text": [
      "2017-02-17 18:28:30,763 parsl.app.app [DEBUG] In __Call__\n",
      "2017-02-17 18:28:30,770 parsl.app.app [DEBUG] Received : ['0'] \n",
      "2017-02-17 18:28:30,823 parsl.app.app [DEBUG] Submitting via : <parsl.dataflow.dflow.DataFlowKernel object at 0x7fe1422d8fd0>\n",
      "2017-02-17 18:28:30,823 parsl.app.app [DEBUG] cmd    : echo {inputs} > {outputs[0]}\n",
      "2017-02-17 18:28:30,824 parsl.app.app [DEBUG] Exec   : echo ['0'] > map.0.txt\n",
      "2017-02-17 18:28:30,825 parsl.dataflow.dflow [DEBUG] Task:7fc331a4-5e16-41dc-a465-139865728b89   dep_cnt:0  deps:[]\n",
      "2017-02-17 18:28:30,825 parsl.dataflow.dflow [DEBUG] Submitting to executor : 7fc331a4-5e16-41dc-a465-139865728b89\n",
      "2017-02-17 18:28:30,827 parsl.app.app [DEBUG] Running app : bash\n",
      "2017-02-17 18:28:30,827 parsl.dataflow.dflow [DEBUG] Launched : 7fc331a4-5e16-41dc-a465-139865728b89 with <AppFuture at 0x7fe1422d8978 state=running>\n",
      "2017-02-17 18:28:30,828 parsl.app.app [DEBUG] Launching app : echo ['0'] > map.0.txt\n",
      "2017-02-17 18:28:30,829 parsl.app.futures [DEBUG] Filepath : /home/yadu/swython/map.0.txt\n",
      "2017-02-17 18:28:30,832 parsl.app.app [DEBUG] In __Call__\n",
      "2017-02-17 18:28:30,833 parsl.app.app [DEBUG] RunCommand Completed echo ['0'] > map.0.txt\n",
      "2017-02-17 18:28:30,833 parsl.app.app [DEBUG] Received : ['1'] \n",
      "2017-02-17 18:28:30,834 parsl.dataflow.dflow [DEBUG] Completed : 7fc331a4-5e16-41dc-a465-139865728b89 with <Future at 0x7fe142b4b908 state=finished returned float>\n",
      "2017-02-17 18:28:30,835 parsl.app.app [DEBUG] Submitting via : <parsl.dataflow.dflow.DataFlowKernel object at 0x7fe1422d8fd0>\n",
      "2017-02-17 18:28:30,835 parsl.dataflow.dflow [DEBUG] Pending:0   Runnable:0   Done:1\n",
      "2017-02-17 18:28:30,836 parsl.app.app [DEBUG] cmd    : echo {inputs} > {outputs[0]}\n",
      "2017-02-17 18:28:30,837 parsl.app.app [DEBUG] Exec   : echo ['1'] > map.1.txt\n",
      "2017-02-17 18:28:30,838 parsl.dataflow.dflow [DEBUG] Task:fd2c7af9-c7d6-416a-a0e3-05e5a4e96024   dep_cnt:0  deps:[]\n",
      "2017-02-17 18:28:30,839 parsl.dataflow.dflow [DEBUG] Submitting to executor : fd2c7af9-c7d6-416a-a0e3-05e5a4e96024\n",
      "2017-02-17 18:28:30,839 parsl.app.app [DEBUG] Running app : bash\n",
      "2017-02-17 18:28:30,840 parsl.dataflow.dflow [DEBUG] Launched : fd2c7af9-c7d6-416a-a0e3-05e5a4e96024 with <AppFuture at 0x7fe1422d8b70 state=running>\n",
      "2017-02-17 18:28:30,841 parsl.app.app [DEBUG] Launching app : echo ['1'] > map.1.txt\n",
      "2017-02-17 18:28:30,841 parsl.app.futures [DEBUG] Filepath : /home/yadu/swython/map.1.txt\n",
      "2017-02-17 18:28:30,844 parsl.app.app [DEBUG] In __Call__\n",
      "2017-02-17 18:28:30,844 parsl.app.app [DEBUG] RunCommand Completed echo ['1'] > map.1.txt\n",
      "2017-02-17 18:28:30,845 parsl.app.app [DEBUG] Received : ['2'] \n",
      "2017-02-17 18:28:30,846 parsl.dataflow.dflow [DEBUG] Completed : fd2c7af9-c7d6-416a-a0e3-05e5a4e96024 with <Future at 0x7fe1422d86d8 state=finished returned float>\n",
      "2017-02-17 18:28:30,847 parsl.app.app [DEBUG] Submitting via : <parsl.dataflow.dflow.DataFlowKernel object at 0x7fe1422d8fd0>\n",
      "2017-02-17 18:28:30,848 parsl.dataflow.dflow [DEBUG] Pending:0   Runnable:0   Done:2\n",
      "2017-02-17 18:28:30,848 parsl.app.app [DEBUG] cmd    : echo {inputs} > {outputs[0]}\n",
      "2017-02-17 18:28:30,850 parsl.app.app [DEBUG] Exec   : echo ['2'] > map.2.txt\n",
      "2017-02-17 18:28:30,850 parsl.dataflow.dflow [DEBUG] Task:8a723576-2619-42da-95b7-20578e780535   dep_cnt:0  deps:[]\n",
      "2017-02-17 18:28:30,851 parsl.dataflow.dflow [DEBUG] Submitting to executor : 8a723576-2619-42da-95b7-20578e780535\n",
      "2017-02-17 18:28:30,852 parsl.app.app [DEBUG] Running app : bash\n",
      "2017-02-17 18:28:30,852 parsl.dataflow.dflow [DEBUG] Launched : 8a723576-2619-42da-95b7-20578e780535 with <AppFuture at 0x7fe1422e07b8 state=running>\n",
      "2017-02-17 18:28:30,853 parsl.app.app [DEBUG] Launching app : echo ['2'] > map.2.txt\n",
      "2017-02-17 18:28:30,854 parsl.app.futures [DEBUG] Filepath : /home/yadu/swython/map.2.txt\n",
      "2017-02-17 18:28:30,857 parsl.app.app [DEBUG] In __Call__\n",
      "2017-02-17 18:28:30,857 parsl.app.app [DEBUG] RunCommand Completed echo ['2'] > map.2.txt\n",
      "2017-02-17 18:28:30,858 parsl.app.app [DEBUG] Received : [<DataFuture at 0x7fe1422d8ac8 state=pending>, <DataFuture at 0x7fe1422e0a58 state=pending>, <DataFuture at 0x7fe1422e0a90 state=pending>] \n",
      "2017-02-17 18:28:30,858 parsl.dataflow.dflow [DEBUG] Completed : 8a723576-2619-42da-95b7-20578e780535 with <Future at 0x7fe1422d8828 state=finished returned float>\n",
      "2017-02-17 18:28:30,859 parsl.app.app [DEBUG] Submitting via : <parsl.dataflow.dflow.DataFlowKernel object at 0x7fe1422d8fd0>\n",
      "2017-02-17 18:28:30,860 parsl.dataflow.dflow [DEBUG] Pending:0   Runnable:0   Done:3\n",
      "2017-02-17 18:28:30,861 parsl.app.app [DEBUG] cmd    : echo {inputs} > {outputs[0]}\n",
      "2017-02-17 18:28:30,862 parsl.app.app [DEBUG] Exec   : echo ['/home/yadu/swython/map.0.txt', '/home/yadu/swython/map.1.txt', '/home/yadu/swython/map.2.txt'] > reduced.txt\n",
      "2017-02-17 18:28:30,863 parsl.dataflow.dflow [DEBUG] Task:b62d150c-c7e0-48a7-bb43-8eafc6c78014   dep_cnt:0  deps:[<DataFuture at 0x7fe1422d8ac8 state=pending>, <DataFuture at 0x7fe1422e0a58 state=pending>, <DataFuture at 0x7fe1422e0a90 state=pending>]\n",
      "2017-02-17 18:28:30,864 parsl.dataflow.dflow [DEBUG] Submitting to executor : b62d150c-c7e0-48a7-bb43-8eafc6c78014\n",
      "2017-02-17 18:28:30,864 parsl.app.app [DEBUG] Running app : bash\n",
      "2017-02-17 18:28:30,865 parsl.dataflow.dflow [DEBUG] Launched : b62d150c-c7e0-48a7-bb43-8eafc6c78014 with <AppFuture at 0x7fe1422e0ac8 state=running>\n",
      "2017-02-17 18:28:30,866 parsl.app.app [DEBUG] Launching app : echo ['/home/yadu/swython/map.0.txt', '/home/yadu/swython/map.1.txt', '/home/yadu/swython/map.2.txt'] > reduced.txt\n",
      "2017-02-17 18:28:30,866 parsl.app.futures [DEBUG] Filepath : /home/yadu/swython/reduced.txt\n",
      "2017-02-17 18:28:30,870 parsl.app.app [DEBUG] RunCommand Completed echo ['/home/yadu/swython/map.0.txt', '/home/yadu/swython/map.1.txt', '/home/yadu/swython/map.2.txt'] > reduced.txt\n",
      "2017-02-17 18:28:30,871 parsl.dataflow.dflow [DEBUG] Completed : b62d150c-c7e0-48a7-bb43-8eafc6c78014 with <Future at 0x7fe1422d8860 state=finished returned float>\n",
      "2017-02-17 18:28:30,872 parsl.dataflow.dflow [DEBUG] Pending:0   Runnable:0   Done:4\n"
     ]
    }
   ],
   "source": [
    "'''  MapReduce\n",
    "        foo   foo ... foo\n",
    "          \\    |      /\n",
    "           \\   |     /\n",
    "             merge\n",
    "''' \n",
    "\n",
    "\n",
    "def map_n_reduce(n, dfk):\n",
    "    map_stage = []\n",
    "    for i in range(0,n):\n",
    "        fu, outs = echo_to_file(inputs=[str(i)], outputs=['map.{0}.txt'.format(i)])\n",
    "        map_stage.extend(outs)        \n",
    "    \n",
    "    red = echo_to_file(inputs=map_stage, outputs=['reduced.txt'])    \n",
    "    return map_stage, red\n",
    "\n",
    "m,r = map_n_reduce(3, dfk)"
   ]
  },
  {
   "cell_type": "code",
   "execution_count": 3,
   "metadata": {
    "collapsed": false
   },
   "outputs": [
    {
     "name": "stdout",
     "output_type": "stream",
     "text": [
      "[<DataFuture at 0x7fe1422d8ac8 state=pending>, <DataFuture at 0x7fe1422e0a58 state=pending>, <DataFuture at 0x7fe1422e0a90 state=pending>] (<AppFuture at 0x7fe1422e0ac8 state=finished returned float>, [<DataFuture at 0x7fe1422e0cc0 state=pending>])\n"
     ]
    },
    {
     "data": {
      "text/plain": [
       "'/home/yadu/swython/reduced.txt'"
      ]
     },
     "execution_count": 3,
     "metadata": {},
     "output_type": "execute_result"
    }
   ],
   "source": [
    "print(m, r)\n",
    "\n",
    "r[1][0].result()"
   ]
  },
  {
   "cell_type": "code",
   "execution_count": null,
   "metadata": {
    "collapsed": false
   },
   "outputs": [],
   "source": [
    "print(open('reduced.txt', 'r').read())"
   ]
  }
 ],
 "metadata": {
  "kernelspec": {
   "display_name": "Python 3",
   "language": "python",
   "name": "python3"
  },
  "language_info": {
   "codemirror_mode": {
    "name": "ipython",
    "version": 3
   },
   "file_extension": ".py",
   "mimetype": "text/x-python",
   "name": "python",
   "nbconvert_exporter": "python",
   "pygments_lexer": "ipython3",
   "version": "3.5.2"
  }
 },
 "nbformat": 4,
 "nbformat_minor": 2
}
